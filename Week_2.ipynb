{
 "cells": [
  {
   "cell_type": "markdown",
   "metadata": {},
   "source": [
    "# Week 2 handin"
   ]
  },
  {
   "cell_type": "markdown",
   "metadata": {},
   "source": [
    "## Assignment\n",
    "## Exercise 1\n",
    "Create a python file with 3 functions:\n",
    "def print_file_content(file) that can print content of a csv file to the console\n",
    "def write_list_to_file(output_file, lst) that can take a list of tuple and write each element to a new line in file\n",
    "rewrite the function so that it gets an arbitrary number of strings instead of a list\n",
    "def read_csv(input_file) that take a csv file and read each row into a list\n",
    "Add a functionality so that the file can be called from cli with 2 arguments\n",
    "path to csv file\n",
    "an argument --file file_name that if given will write the content to file_name or otherwise will print it to the console.\n",
    "Add a --help cli argument to describe how the module is used\n",
    "\n",
    "## Exercise 2\n",
    "Create a module called utils.py with the following 5 functions:\n",
    "\n",
    "def get_file_names(folderpath,out=output.txt):\n",
    "    \"\"\" takes a path to a folder and writes all filenames in the folder to a specified output file\"\"\"\n",
    "\n",
    "def get_all_file_names(folderpath,out=output.txt):\n",
    "    \"\"\"takes a path to a folder and write all filenames recursively (files of all sub folders to)\"\"\"\n",
    "\n",
    "def print_line_one(file_names):\n",
    "    \"\"\"takes a list of filenames and print the first line of each\"\"\"\n",
    "\n",
    "def print_emails(file_names):\n",
    "    \"\"\"takes a list of filenames and print each line that contains an email (just look for @)\"\"\"\n",
    "\n",
    "def write_headlines(md_files, out=output.txt):\n",
    "    \"\"\"takes a list of md files and writes all headlines (lines starting with #) to a file\"\"\"\n",
    "Make sure your module can be called both from cli and imported to another module Create a new module that imports utils.py and test each function."
   ]
  },
  {
   "cell_type": "markdown",
   "metadata": {},
   "source": [
    "## Status\n",
    "Alt er lavet pånær delen om CLI og den sidste opgave i exercise 2 - Dette skyldes jeg ikke kunne finde ud af dem, så jeg tænker at følge med på løsningen onsdag. Det var nogle ting i exercise 2 jeg kun kunne få til at virke inde i visual studio code, men ikke her gennem jupyter."
   ]
  },
  {
   "cell_type": "markdown",
   "metadata": {},
   "source": [
    "## Solution part 1"
   ]
  },
  {
   "cell_type": "code",
   "execution_count": 48,
   "metadata": {
    "scrolled": true
   },
   "outputs": [
    {
     "name": "stdout",
     "output_type": "stream",
     "text": [
      "('Mathias', 'Noe', 'Clausen')\n",
      "('hej', 'med', 'dig')\n"
     ]
    }
   ],
   "source": [
    "def print_file_content(file):\n",
    "    with open(file, 'r') as file_object:\n",
    "        contents = file_object.read()\n",
    "        print(contents)\n",
    "file = 'pythonFile.csv'\n",
    "print_file_content(file)"
   ]
  },
  {
   "cell_type": "code",
   "execution_count": 41,
   "metadata": {},
   "outputs": [],
   "source": [
    "def write_list_to_file(output_file, lst):\n",
    "    with open(output_file, 'a') as file_object:\n",
    "        file_object.write('\\n' + str(lst))\n",
    "lst = ('hej','med','dig')\n",
    "output_file = ('pythonFile.csv')\n",
    "write_list_to_file(output_file, lst)"
   ]
  },
  {
   "cell_type": "code",
   "execution_count": null,
   "metadata": {},
   "outputs": [],
   "source": [
    "def write_list_to_file(output_file, a1, a2, a3):\n",
    "    with open(output_file, 'w') as file_object:\n",
    "        lst = (a1,a2,a3)\n",
    "        file_object.write(str(lst))\n",
    "a1 = 'Mathias'\n",
    "a2 = 'Noe'\n",
    "a3 = 'Clausen'\n",
    "output_file = ('pythonFile.csv')\n",
    "write_list_to_file(output_file, a1, a2, a3)"
   ]
  },
  {
   "cell_type": "code",
   "execution_count": 47,
   "metadata": {},
   "outputs": [
    {
     "name": "stdout",
     "output_type": "stream",
     "text": [
      "[\"('Mathias', 'Noe', 'Clausen')\", \"('hej', 'med', 'dig')\"]\n"
     ]
    }
   ],
   "source": [
    "def read_csv(input_file):\n",
    "    with open(input_file, 'r') as file_object:\n",
    "        content = file_object.readlines()\n",
    "        content = [c.strip() for c in content]\n",
    "        print(content)\n",
    "input_file = ('pythonFile.csv')\n",
    "read_csv(input_file)"
   ]
  },
  {
   "cell_type": "code",
   "execution_count": 68,
   "metadata": {},
   "outputs": [
    {
     "name": "stderr",
     "output_type": "stream",
     "text": [
      "usage: ipykernel_launcher.py [-h] folder file\n",
      "ipykernel_launcher.py: error: the following arguments are required: file\n"
     ]
    },
    {
     "ename": "SystemExit",
     "evalue": "2",
     "output_type": "error",
     "traceback": [
      "An exception has occurred, use %tb to see the full traceback.\n",
      "\u001b[0;31mSystemExit\u001b[0m\u001b[0;31m:\u001b[0m 2\n"
     ]
    }
   ],
   "source": [
    "import argparse\n",
    "if __name__ == '__main__':\n",
    "    parser= argparse.ArgumentParser(description='A program that reads, writes and stores locally')\n",
    "    parser.add_argument('folder', help='The path to the folder to process')\n",
    "    parser.add_argument('file', help='The name of the file to output to')\n",
    "    args = parser.parse_args()\n",
    "print('Folder:', args.folder)\n",
    "print('File:', args.file)"
   ]
  },
  {
   "cell_type": "markdown",
   "metadata": {},
   "source": [
    "## Solution part 2"
   ]
  },
  {
   "cell_type": "code",
   "execution_count": 69,
   "metadata": {},
   "outputs": [],
   "source": [
    "import modules.utils as util\n",
    "file_list = \"output.txt\", \"output1.txt\", \"pythonFile.csv\"\n",
    "\n",
    "util.get_file_names(\"/home/jovyan/python_handin_template\")\n",
    "\n",
    "#Virker gennem vsc, men ikke i jupyter\n",
    "util.get_all_file_names(\"/home/jovyan/python_handin_template\")\n",
    "\n",
    "#Virker også gennem vsc, forstår ikke helt hvorfor det ikke virker her\n",
    "util.print_line_one(file_list)\n",
    "util.print_emails(file_list)\n",
    "#print(utils.write_headlines())"
   ]
  },
  {
   "cell_type": "code",
   "execution_count": 30,
   "metadata": {},
   "outputs": [],
   "source": []
  },
  {
   "cell_type": "code",
   "execution_count": null,
   "metadata": {},
   "outputs": [],
   "source": []
  },
  {
   "cell_type": "code",
   "execution_count": null,
   "metadata": {},
   "outputs": [],
   "source": []
  },
  {
   "cell_type": "code",
   "execution_count": null,
   "metadata": {},
   "outputs": [],
   "source": []
  }
 ],
 "metadata": {
  "kernelspec": {
   "display_name": "Python 3",
   "language": "python",
   "name": "python3"
  },
  "language_info": {
   "codemirror_mode": {
    "name": "ipython",
    "version": 3
   },
   "file_extension": ".py",
   "mimetype": "text/x-python",
   "name": "python",
   "nbconvert_exporter": "python",
   "pygments_lexer": "ipython3",
   "version": "3.7.6"
  }
 },
 "nbformat": 4,
 "nbformat_minor": 4
}
