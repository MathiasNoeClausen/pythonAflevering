{
 "cells": [
  {
   "cell_type": "markdown",
   "metadata": {},
   "source": [
    "# Assignment\n",
    "## Exercise 1\n",
    "Åbn 'https://www.dba.dk/biler/'.\n",
    "Find ind alle biler med mærker: 'Peugeot', 'Volvo' og gem dem.\n",
    "## Exercise 2\n",
    "Brug Regular Expressions til at sortere de fundne biler på år 2005.\n",
    "## Exercise 3\n",
    "Brug Selenium til at tilgå de samme punkter som i forrige opgaver, og vælge den dyreste bil.\n",
    "Brug BeautifulSoup til at printe bilbeskrivelsen ud.\n",
    "\n",
    "### Gruppemedlemmer\n",
    "Mathias Noe Clausen - cph-mc366@cphbusiness.dk \n",
    "Gustav Wernegreen - cph-gw30@cphbusiness.dk \n",
    "David Josefsen - cph-dj154@cphbusiness.dk"
   ]
  },
  {
   "cell_type": "markdown",
   "metadata": {},
   "source": [
    "## Status\n",
    "\n",
    "Jeg har lavet første opgave nogenlunde tilfredsstillende, jeg kunne kun få den til at webscrape fra første side - dette skyldes nok at jeg ikke har lavet det til en funktion, som der er blevet gjort i et af eksemplerne du har lavet. \n",
    "\n",
    "Det tog mig virkelig lang tid at få det jeg har til at fungere, og er også nogenlunde tilfreds med resultatet. \n",
    "\n",
    "Jeg har derudover brugt BeautifulSoup til at finde hvor mange opslag der ligger på dba med peugeoter, men da jeg ikke har lavet en funktion til at \"skifte side\", har jeg ikke rigtig kunne bruge den til noget. \n",
    "\n",
    "Jeg regner med at arbejde videre med opgaven, da jeg gerne vil finde en ordentlig løsning"
   ]
  },
  {
   "cell_type": "markdown",
   "metadata": {},
   "source": [
    "## Solution\n",
    "\n",
    "\n"
   ]
  },
  {
   "cell_type": "code",
   "execution_count": null,
   "metadata": {
    "scrolled": true
   },
   "outputs": [],
   "source": []
  },
  {
   "cell_type": "code",
   "execution_count": 22,
   "metadata": {},
   "outputs": [
    {
     "name": "stdout",
     "output_type": "stream",
     "text": [
      "41\n",
      "[('2009', '320.000', '16.900 kr.', 'Peugeot 207, 1,6 HDi 90 Comfort+ SW, Diesel, 2009, km 320000, sølvmetal, 5-dørs, Rigtig flot og yderst velholdt igen bemærkninger overhovedet. Der følgere sommerhjul med'), ('2011', '290.000', '14.900 kr.', 'Peugeot 206+, 1,4 HDi 68, Diesel, 2011, km 290000, koksmetal, 5-dørs, Rigtig flot og velholdt køre 25 km på literen og koster 2100kr årligt i vægtafgift'), ('2008', '308.000', '8.500 kr.', 'Peugeot 206, 1,4 HDi, Diesel, 2008, km 308000, grå, 5-dørs, Peugeot 206 sælges da jeg ikke længere har brug for bil, udstødning er næsten ny og bilen kører og starter som den skal, ingen rust i undervognen. Bilen skal have skiftet bagbro og venstre forhjuls leje inden næste syn.\\n\\n\\nPrisen kan forhandles ved en hurtig handel.'), ('2012', '117.000', '55.000 kr.', 'Peugeot 208, 1,2 VTi Access, Benzin, 2012, km 117000, bordeaux, nysynet, klimaanlæg, aircondition, ABS, airbag, alarm, 5-dørs, centrallås, startspærre, service ok, servostyring, Bilen fremstår i meget pæn stand. Der medfølger desuden helt nyt luftfilter, kabinefilter, oliefilter og nye vinduesviskere på forruden. Alle syn og service er overholdt. Bilen er synet i december månede 2020 Har altid holdt inde i garagen Har et par måneder før det fået aircondition service udført 10/20. Den...'), ('2007', '251.000', '22.195 kr.', 'Peugeot 207, 1,6 HDi XR+, Diesel, 2007, km 251000, blåmetal, 5-dørs, Velholdt samt velkørende bil uden oliespild. Nysynet og nyt service udført. Regning samt syns rapport uden anmærkninger kan fremvises.\\nOriginal Fartpilot mont.Elektronisk parkering skrive mont.Handskerum med aircondition til køling af eks sodavand. Bagagerums bakke mont.Bil har dog lidt “Bilka buler” men ingen store skader.En rap lille velkørende diesel bil.Alufælge medfølger men dæk skal dog skiftes.\\nUseriøse bud...'), ('2009', '203.000', '19.000 kr.', 'Peugeot 207, 1,4 HDi 70 Comfort+, Diesel, 2009, km 203000, sølvmetal, 5-dørs, I meget pæn stand, inde som ude. Ingen ridser og buler. Der medfølger Vinterdæk.'), ('2007', '285.000', '17.900 kr.', 'Peugeot 207, 1,6 HDi 90 Comfort+, Diesel, 2007, km 285000, koksmetal, 5-dørs, Pæn og velholdt Peugeot 207 kører godt og langt på literen Ca 25 km/l\\nServo elruder alufælge centrallås 4 nye dæk anhængertræk mm'), ('2007', '270.000', '25.000 kr.', 'Peugeot 307, Diesel, 2007, km 270000, sortmetal, træk, nysynet, klimaanlæg, aircondition, ABS, airbag, alarm, 5-dørs, st. car., centrallås, startspærre, service ok, servostyring, Nysynet Peugeot 307 PREMIUM 1,6 St.Car disel årg. 05.07.2007 – KM 270.000 – Netop nysynet den 24.02.2021 – Næste syn den 24.02.2023\\n\\nSprit nysynet meget velholdt og yderst velkørende økonomisk rummelig st.car med den helt store udstyrspakke. Vægtafgift 2.340.- Kr. og 19,6 km/l disel. Bilen indeholder bla:...'), ('2010', '120.000', '26.999 kr.', 'Peugeot 107, 1,0 Comfort, Benzin, 2010, km 120000, blåmetal, 5-dørs, Super velkørende økonomisk bil der kan køre op til 24km/L. Fremstår velholdt, ingen skader kun 2 små buler, ikke ryger og nysynet 08 oktober 2020. Nyserviceret (18-02-2021) Aircondition, ABS, antispin, servostyring, centrallås, CD,radio, airbag, nysynet, automatisk lys, splitbagsæde,'), ('2001', '275.000', '7.900 kr.', 'Peugeot 406, 1,8 ST stc., Benzin, 2001, km 275000, grå, træk, 5-dørs, st. car., centrallås, Peugeot 406 1,8 st. car\\nSidst Synet d. 04/12-2019, \\nBilen står brugt med et par buler, men kører fint. Der er sat ny generator i, samt skiftet olie i december.\\nNyere helårs Continental dæk.\\nNyere batteri.\\nJeg har været glad for den, og den har startet hver gang også denne vinter og kørt fra A til B uden problemer..\\nSælges nu grundet langtidssygdom.\\nTræk til 1200 kg.\\nSå hvis du kan leve med en...'), ('2007', '289.000', '23.000 kr.', 'Peugeot 207, 1,4 HDi, Diesel, 2007, km 289000, sort, 5-dørs'), ('2009', '215.000', '14.900 kr.', 'Peugeot 206, 1,4 HDi Comfort+, Diesel, 2009, km 215000, sølvmetal, 5-dørs, Pæn og velholdt, bil, kører perfekt'), ('2017', '98.000', '61.990 kr.', 'Peugeot 108, 1,0 e-VTi 69 Allure, Benzin, 2017, km 98000, koksmetal, 5-dørs, 15\" alufælge, \\nBilen er nysynet d. 09/03-21 & serviceret for 5000km siden inkl. ny original forrude. \\n\\n\\nSuper fin og økonomisk Peugeot 108 sælges. Bilen køre som den skal og alt fungere. Den er blevet brugt som pendler bil og har dermed kørt sunde lange ture. Bilen er med digital service bog samt med kvitteringer på tidligere service. \\n\\nAf udstyr kan der nævnes: \\n- aircondition \\n- fartbegrænser \\n- fartpilot...'), ('2010', '229.000', '21.000 kr.', 'Peugeot 207, 1,6 HDi 90 Comfort+ Cool, Diesel, 2010, km 229000, hvid, 5-dørs, Syne. 21.08.2020\\nBluetooth, aux indgang , USB ingang, fartpilot,varm i sidder , kørecomputer , aircondition , \\nStarter og køre meget godt.\\n+vinterhjul'), ('2013', '147.000', '29.000 kr.', 'Peugeot 107, 1,0 Active, Benzin, 2013, km 147000, lilla, 5-dørs, Seriøse bud modtages.                Særdeles velholdt lille rap Peugeot 107 fra 2013 sælges. Den er med nye vinterdæk og nysynet. Pris. 35.000.'), ('2007', '145.500', '24.900 kr.', 'Peugeot 207, 1,4 XR, Benzin, 2007, km 145500, træk, klimaanlæg, aircondition, ABS, airbag, alarm, 5-dørs, centrallås, servostyring, Dejlig flot  Peugeot 207 fra 2007\\nDen har den et hak på venstre bagkofanger, (ses på sidste billede)\\nBilen er synet den 31 aug. 2020\\nBilen køre som den skal, starter hver gang ingen problemer.\\nBilen har kørt 145xxx \\nUdstyr bla.\\nAftagelig træk som den er synet med\\n, airc., fjernb. c.lås, el-spejle m/varme, højdejust. førersæde, sædevarme, el-ruder...'), ('2012', '147.000', '28.000 kr.', 'Peugeot 206+, 1,4 HDi 68, Diesel, 2012, km 147000, gråmetal, klimaanlæg, aircondition, ABS, airbag, 5-dørs, centrallås, startspærre, servostyring, Fin og velkørende bil, sidst synet den 5 marts 2020, helårsdæk'), ('2006', '206.000', '22.500 kr.', 'Peugeot 207, 1,6 S16, Benzin, 2006, km 206000, hvid, 5-dørs, Pæn og velholdt nysynet 15/10-2020 er 2 ejer af bilen fuld service Bog tandrem skiftet ved 186.000 km ny udstødning nyt katalysator bremser vinterdæk på 16 tommer alu fælge bilen har servo el ruder klima anlæg soltag  regn censor fjernbetjent centrallås  kører rigtig godt 109 hk som kører en 14-15kml 1570 kr hver 6 mdr i vægtafgift købte bilen af den første ejer så der har kun været 2 i bilens tid fuld serviesbog bliver ikke...'), ('2009', '146.500', '39.500 kr.', 'Peugeot 308, Diesel, 2009, km 146500, sortmetal, 5-dørs, 16\" alufælge, Super familiebil. Sælges da vi har købt en nyere bil.\\nBilen er synet januar sidste år, og har lige fået lavet service hvor den fik skiftet tandrem og lavet bremser bagpå.\\nBilen står lige pt. på vinterhjul. Men alufælge m. dæk følger selvfølgelig med. Må trække 1200 kg.'), ('1996', '201.500', '3.250 kr.', 'Peugeot 306, 1,6 SR, Benzin, 1996, km 201500, 4-dørs, Starter og kører godt. Skal synes ved indregistrering. Halvårligt grønejerafgift 1760kr. Omsynsrapport tilgængelig. Seneste registreringsnummer SB42507. Tidligere undervognsbehandlet. Rigtig gode sommerdæk. Elruder. Armlæn i bag. Brugsspor udvendigt. Har løbende fået lavet forskellige reparationer. \\nBillede kommer. \\nSms eller ring 41119833 oplys venligst annoncen'), ('2020', '2.000', '319.900 kr.', 'Peugeot 3008 1,6 Hybrid Allure LTD EAT8 Benzin aut. Automatgear modelår 2020 km 2000 Gråmetal ABS airbag, 9\" Farve Touch-skærm, Aut. nedblændeligt bakspejl, Apple CarPlay, Automatgear, AUX stik, Bakkamera, Bluetooth, Digital instrumentering, Elektrisk bagklap, El-foldbare spejle m. varme, Elruder for/bag, Fartpilot adaptiv, Fjernbetjent centrallås, Klimaanlæg 2-zoner, Kørecomputer, Multifunktionsrat, Musikstreaming via bluetooth, Nøglefri start, Parkeringssensor for/bag, Regnsensor...'), ('2011', '60.000', '49.900 kr.', 'Peugeot 107 1,0 Active Benzin modelår 2011 km 60000 Sortmetal nysynet ABS airbag servostyring, cd/radio, fjernb. c.lås, airbag, abs, antispin, esp, servo, aux tilslutning, usb tilslutning, ikke ryger, nysynet, service ok, el-ruder, isofix, kopholder.\\nOBS! Helt ny koblingsæt,.\\nSuper lækker velkørende bil, meget velholdt.\\nDer tages for behold for tastefejl på udstyret.\\n\\n-- HTN BILER --\\nKøb, Salg, Bytte.\\nVi har altid 60-80 biler på lager.\\nKig forbi GAMMEL KØGE LANDEVEJ 384\\nÅbent alle...'), ('2011', '188.000', '34.800 kr.', 'Peugeot 206+ 1,4 HDi 70 Comfort+ Diesel modelår 2011 km 188000 Gråmetal ABS airbag, NY BAGBRO og KOBLING . Alufælge sommer og Vinterhjul airc., fjernb. c.lås, kørecomputer, infocenter, startspærre, udv. temp. måler, sædevarme, højdejust. forsæder, højdejust. førersæde, el-ruder, isofix, kopholder, bagagerumsdækken, automatisk lys, tågelygter, airbag, abs, antispin, esp, servo, super fin servicebog, tandremssæt+vandpumpe skiftet ved 181.000 km ,diesel partikel filter.\\n\\n Evt byttebil...'), ('2014', '117.000', '84.900 kr.', 'Peugeot 2008 1,4 HDi 68 Active Diesel modelår 2014 km 117000 træk nysynet ABS airbag servostyring, Super velholdt bil, 1 ejers fra ny og med fuld service overholdt hos Aut. Peugeot forhandler!\\nBemærk bilen er med bl.a. navigation og træk. \\n\\n•KAN FINANSIERES FRA 1.243 KR. PR.MDR. – UDEN UDBETALING\\n\\nNavigation, airc., fjernb. c.lås, fartpilot, sædevarme, højdejust. forsæder, el-ruder, el-spejle m/varme, bagagerumsdækken, isofix, armlæn, aux tilslutning, usb tilslutning...'), ('2009', '168.000', '29.900 kr.', 'Peugeot 407 1,8 Performance Benzin modelår 2009 km 168000 Sølvmetal ABS airbag, ---Facelift 407---\\n\\n17\" alufælge, fuldaut. klima, fjernb. c.lås, kørecomputer, infocenter, regnsensor, sædevarme, højdejust. førersæde, 4x el-ruder, læderrat, splitbagsæde, kopholder, musikstreaming via bluetooth, cd/radio, el-spejle, tågelygter, 6 airbags, abs, antispin, esp, servo, ikke ryger, service ok, kromlister på kofanger, afh.pris, bilen køre fint, \\n\\nFinans: uden udb fra 995.-\\n\\nChat & Like os på...'), ('2011', '165.000', 'Ring for pris', 'Peugeot 308 1,6 HDi 112 Comfort+ stc. Diesel modelår 2011 km 165000 ABS airbag'), ('2004', '207.000', '12.000 kr.', 'Peugeot Partner, 1,6 XT 16V Com., Benzin, 2004, km 207000, sølvmetal, 5-dørs, Familiebil sælges.. \\n\\nSommer og vinterhjul følger med i handlen. \\nBilen er synet d. 31-08-2020 ved 205.000km\\n\\nBilen er udstyret med træk, 2 skydedør, el. Ruder.\\n\\nNye måttesæt sat i bilen. Lige fået en ny forfjeder samt stabilisator stang. \\n\\nSmå rust pletter. \\n\\nBillig familiebil til pengene.'), ('2016', '64.000', '94.900 kr.', 'Peugeot 208 1,2 VTi 82 More+ Benzin modelår 2016 km 64000 Sølvmetal ABS airbag, 12V udtag, Elruder for, Fartpilot, Fjernbetjent centrallås, Klimaanlæg 2-zoner, Multifunktionsrat, Servo, Sædevarme for, Udvendig temperaturmåler, USB stik, 15\" Alufælge, LED baglygter, LED kørelys, Metallak, Mørktonede ruder bag, Tonede ruder, Højdejusterbart førersæde, Justerbart rat, Kopholder, Læderrat, Splitbagsæde, Stofindtræk, 6 Airbags, ABS, ESP, Isofix, Selealarm, Startspærre'), ('2015', '108.000', '145.000 kr.', 'Peugeot 5008 1,6 HDi 114 Style 7prs Diesel modelår 2015 km 108000 Koksmetal træk ABS airbag startspærre servostyring, 16\" alufælge, vinterhjul, glastag, træk, diesel partikel filter, tidligere undervognsbehandlet, læderrat, splitbagsæde, stofindtræk, isofix, armlæn, ikke ryger, service ok, tonede ruder, servo, højdejust. forsæder, sædevarme, regnsensor, startspærre, fartpilot, parkeringssensor (bag), fjernb. c.lås, bluetooth, 6 airbags, abs, esp, tågelygter, cd/radio, nøglefri...'), ('2019', '27.000', '324.900 kr.', 'Peugeot 3008 1,5 BlueHDi 130 GT Line EAT8 Diesel aut. Automatgear modelår 2019 km 27000 Gråmetal ABS airbag, adaptiv fartpilot, 9\" Farve Touch-skærm, Apple CarPlay, Android Auto, Aut. nedblændeligt bakspejl, AUX stik, Bakkamera, Bluetooth, Automatgear, Digital instrumentering, Dobbelte El-spejle med varme, El-håndbremse, Elruder for/bag, Fartpilot, Fjernbetjent centrallås, Infocenter, Klimaanlæg 2-zoner, Kørecomputer, Multifunktionsrat, Musikstreaming via bluetooth, Parkeringssensor...'), ('2013', '50.000', '36.400 kr.', 'Peugeot 107, 1,0 Active, Benzin, 2013, km 50000, 5-dørs, Annonce Peugeot 107 , a°rg. 2014, 107 Peugeot fra 2014 med kun 50000km som køre helt perfekt. Ingen aircondition og der er armlæn monteret pa° førersædet. Jeg har haft bilen i næsten 4 a°r Dæk 94% Næste service 56000km   \\n\\nBytte med større!!'), ('2017', '64.000', '234.900 kr.', 'Peugeot 3008 1,6 BlueHDi 120 Active EAT6 Diesel aut. Automatgear modelår 2017 km 64000 Sølvmetal ABS airbag startspærre servostyring, 2 zone klima, Automat gear, Sport, parkeringssensor (bag), fartpilot, ratgearskifte, fjernb. c.lås, kørecomputer, infocenter, startspærre, udv. temp. måler, auto. nedbl. bakspejl, regnsensor, sædevarme, højdejust. forsæder, 4x el-ruder, el-spejle m/varme, dæktryksmåler, dab radio, dab+ radio, multifunktionsrat, bluetooth, usb tilslutning, armlæn, isofix...'), ('2009', '192.000', '19.900 kr.', 'Peugeot 207, 1,6 HDi 110 Premium SW, Diesel, 2009, km 192000, grå, nysynet, aircondition, ABS, 5-dørs, centrallås, startspærre, service ok, servostyring,  \\nFlot Peugeot 207 SW.\\n\\nKører utrolig godt og fejler ingenting.\\n\\nNysynet.\\n\\nTandrem skiftet.\\n\\nPæn og ren. \\n\\nUdstyr:\\nAircondition, el ruder, el spejle, centrallås, CD/radio mm.\\n\\nKontakt for nærmere info evt. fremvisning af bilen.'), ('2010', '67.000', '35.999 kr.', 'Peugeot 107 1,0 Comfort Benzin modelår 2010 km 67000 Sølvmetal nysynet ABS airbag servostyring, Mulighed for køb uden besigtigelse og levering til din dør, ved hjælp af auto-transport..\\n\\nBOOK dit besøg på TLF: 28 90 90 74 eller send en mail.\\nDu bedes at have MASKE på under hele besøget :)\\n\\nVenligst INGEN personlige henvendelser uden aftale.\\n\\nÅbningstider for fremvising:\\nMan-Fre: 10 - 16\\nLørdag: Lukket\\nSøndag: 11 - 15\\n-------------------------------------------------\\n\\nGARANTI &...'), ('2007', '261.000', '15.000 kr.', 'Peugeot 407 2,0 HDi XR SW Diesel modelår 2007 km 261000 Sort træk ABS airbag startspærre servostyring, FINANSIERING UDEN UDBETALING TILBYDES! \\nEks. på 15.000 kr.: 60 måneder og 367 kr. pr. måned.\\n\\nDenne bil er ikke klargjort eller undersøgt, derfor afh. pris. \\nVinterhjul, højdejust. forsæder, 4x el-ruder, el-spejle, fartpilot, fjernb. c.lås, infocenter, startspærre, cd/radio, multifunktionsrat, isofix, armlæn, kopholder, stofindtræk, 6 airbags, abs, antispin, esp, servo, tagræling...'), ('2018', '65.000', '129.900 kr.', 'Peugeot 208 1,6 BlueHDi 100 Edition+ Diesel modelår 2018 km 65000 Hvid ABS airbag, * BAKKAMERA*\\n* 2 ZONE KLIMAANLÆG*\\n* APPEL CARPLAY*\\n* PANORAMAGLASTAG*\\n\\n12V udtag, Aut. nedblændeligt bakspejl, Bakkamera, El-foldbare spejle m. varme, Elruder for/bag, Fartpilot, Fjernbetjent centrallås, Klimaanlæg 2-zoner, Kørecomputer, Multifunktionsrat, Parkeringssensor bag, Regnsensor, Servo, Sædevarme for, USB stik, Udvendig temperaturmåler, 16\" Alufælge, LED baglygter, LED kørelys, Metallak...'), ('2014', '120.000', '99.900 kr.', 'Peugeot 308 1,6 THP 125 Active Benzin modelår 2014 km 120000 Sortmetal ABS airbag, PÆN & VELHOLDT!! 16\" alufælge, 2 zone klima, køl i handskerum, fjernb. c.lås, parkeringssensor (bag), fartpilot, kørecomputer, udv. temp. måler, regnsensor, sædevarme, højdejust. forsæder, 4x el-ruder, el-spejle m/varme, dæktryksmåler, multifunktionsrat, bluetooth, usb tilslutning, armlæn, isofix, kopholder, stofindtræk, splitbagsæde, læderrat, tågelygter, automatisk lys, 6 airbags, abs, antispin, esp...'), ('2017', '76.000', '269.900 kr.', 'Peugeot 3008 1,6 BlueHDi 120 Allure EAT6 Diesel aut. Automatgear modelår 2017 km 76000 Gråmetal ABS airbag, 12V udtag, Apple CarPlay, Aut. nedblændeligt bakspejl, Automatisk op-/nedblænding, Digital instrumentering, El-foldbare spejle m. varme, El-håndbremse, Elruder for/bag, Fartpilot, Fjernbetjent centrallås, Klimaanlæg 2-zoner, Kørecomputer, Parkeringssensor for, Regnsensor, Servo, Sædevarme for, Udvendig temperaturmåler, USB stik, 18\" Alufælge, Hvide blinklys, Indfarvede kofangere...'), ('2013', '109.000', '89.500 kr.', 'Peugeot 508 1,6 HDi 114 Active Diesel modelår 2013 km 109000 Sort nysynet ABS airbag startspærre servostyring, FINANSIERING UDEN UDBETALING TILBYDES! \\nEks. på 89.500 kr.: 72 måneder og 1.711 kr. pr. måned.\\n\\nCa. 21,7 km/l, halvårlig afgift 1.940 kr.\\n16\" alufælge, airc., 2 zone klima, køl i handskerum, fjernb. c.lås, fartpilot, infocenter, startspærre, auto. nedbl. bakspejl, udv. temp. måler, regnsensor, højdejust. forsæder, 4x el-ruder, el-klapbare sidespejle, cd/radio...'), ('2005', '127.000', '13.000 kr.', 'Peugeot 206, 1,4, Benzin, 2005, km 127000, sølvmetal, 3-dørs, Sælger Denne Peugeot 206 1.4 Benzin fra 2005\\n\\nNysynet D. 21-01-2021\\n\\nKun kørt 127.000 km!!!\\n\\nKører 17km/l\\n\\nHalvtårlig vægt afgift 1200 kr.\\n\\nEn fin lille vogne som kører uden nogen problemer\\n\\nHvis det har fanget interessen så ring/sms på 40424290'), ('2020', '6.000', '419.900 kr.', 'Peugeot 3008 1,6 Hybrid4 GT EAT8 Benzin 4x4 4x4 aut. Automatgear modelår 2020 km 6000 Perlemorshvid ABS airbag servostyring, Fjernb. c.lås, Parkeringssensor, Ratgearskifte, Kørecomputer, Auto. nedbl. Bakspejl, Udv. temp. måler, Regnsensor, Sædevarme, Højdejust. førersæde, 4x el-ruder, El-klapbare sidespejle m. varme, Bakkamera, Dæktryksmåler, Navigation, Multifunktionsrat, Bluetooth, Musikstreaming via bluetooth, Android Auto, Apple CarPlay, Armlæn, Isofix, Kopholder, Splitbagsæde...')]\n"
     ]
    }
   ],
   "source": [
    "import requests\n",
    "from bs4 import BeautifulSoup\n",
    "from tqdm import tqdm\n",
    "\n",
    "   \n",
    "\n",
    "url = 'https://www.dba.dk/biler/biler/maerke-peugeot/'\n",
    "r = requests.get(url, headers={'User-Agent': 'Mozilla/5.0'})\n",
    "r.raise_for_status()\n",
    "\n",
    "soup = BeautifulSoup(r.text, 'html.parser')\n",
    "res = soup.select('div[class^=a] > span > small')[0].getText().strip('( )')\n",
    "no_of_events = res\n",
    "    \n",
    "    \n",
    "\n",
    "event_cells = soup.find_all('tr', {'class' : 'dbaListing'})\n",
    "#print('size',len(event_cells))\n",
    "#print(event_cells)\n",
    "scraped_cars_per_page = []\n",
    "\n",
    "for event_cell in event_cells:\n",
    "\n",
    "    modelår = str(event_cell.select('td[title^=Modelår]')[0].getText()).strip()\n",
    "    km = event_cell.select('td[title^=Km]')[0].getText().strip()\n",
    "    pris = event_cell.select('td[title^=Pris]')[0].getText().strip()\n",
    "    beskrivelse = event_cell.select('a[class^=listingLink]')[1].getText().strip()\n",
    "\n",
    "\n",
    "    scraped_cars_per_page.append((modelår, km, pris, beskrivelse))\n",
    "\n",
    "\n",
    "\n",
    "\n",
    "\n",
    "\n",
    "#print(len(scraped_cars))    \n",
    "#print(scraped_cars)    \n",
    "\n",
    "print(len(scraped_cars_per_page))\n",
    "print(scraped_cars_per_page)\n",
    "#print(type(res))\n"
   ]
  },
  {
   "cell_type": "code",
   "execution_count": 19,
   "metadata": {},
   "outputs": [
    {
     "ename": "NameError",
     "evalue": "name 'event_cells' is not defined",
     "output_type": "error",
     "traceback": [
      "\u001b[0;31m---------------------------------------------------------------------------\u001b[0m",
      "\u001b[0;31mNameError\u001b[0m                                 Traceback (most recent call last)",
      "\u001b[0;32m<ipython-input-19-12695c41be07>\u001b[0m in \u001b[0;36m<module>\u001b[0;34m\u001b[0m\n\u001b[0;32m----> 1\u001b[0;31m \u001b[0mprint\u001b[0m\u001b[0;34m(\u001b[0m\u001b[0mevent_cells\u001b[0m\u001b[0;34m[\u001b[0m\u001b[0;36m0\u001b[0m\u001b[0;34m]\u001b[0m\u001b[0;34m)\u001b[0m\u001b[0;34m\u001b[0m\u001b[0;34m\u001b[0m\u001b[0m\n\u001b[0m",
      "\u001b[0;31mNameError\u001b[0m: name 'event_cells' is not defined"
     ]
    }
   ],
   "source": [
    "print(event_cells[0])"
   ]
  },
  {
   "cell_type": "code",
   "execution_count": null,
   "metadata": {},
   "outputs": [],
   "source": [
    "print(modelår)\n",
    "print(km)\n",
    "print(pris)\n",
    "print(beskrivelse)\n",
    "#soup.find_all('a', {'class' : 'listingLink'})\n"
   ]
  },
  {
   "cell_type": "code",
   "execution_count": null,
   "metadata": {},
   "outputs": [],
   "source": [
    "\n",
    "\n",
    "        \n"
   ]
  }
 ],
 "metadata": {
  "kernelspec": {
   "display_name": "Python 3",
   "language": "python",
   "name": "python3"
  },
  "language_info": {
   "codemirror_mode": {
    "name": "ipython",
    "version": 3
   },
   "file_extension": ".py",
   "mimetype": "text/x-python",
   "name": "python",
   "nbconvert_exporter": "python",
   "pygments_lexer": "ipython3",
   "version": "3.7.6"
  }
 },
 "nbformat": 4,
 "nbformat_minor": 4
}
