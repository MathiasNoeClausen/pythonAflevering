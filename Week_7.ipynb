{
 "cells": [
  {
   "cell_type": "markdown",
   "metadata": {},
   "source": [
    "# Assignment\n",
    "## Exercise 1\n",
    "Åbn 'https://www.dba.dk/biler/'.\n",
    "Find ind alle biler med mærker: 'Peugeot', 'Volvo' og gem dem.\n",
    "## Exercise 2\n",
    "Brug Regular Expressions til at sortere de fundne biler på år 2005.\n",
    "## Exercise 3\n",
    "Brug Selenium til at tilgå de samme punkter som i forrige opgaver, og vælge den dyreste bil.\n",
    "Brug BeautifulSoup til at printe bilbeskrivelsen ud.\n",
    "\n",
    "### Gruppemedlemmer\n",
    "Mathias Noe Clausen - cph-mc366@cphbusiness.dk \n",
    "Gustav Wernegreen - cph-gw30@cphbusiness.dk \n",
    "David Josefsen - cph-dj154@cphbusiness.dk"
   ]
  },
  {
   "cell_type": "markdown",
   "metadata": {},
   "source": [
    "## Status\n",
    "\n",
    "Jeg har lavet første opgave nogenlunde tilfredsstillende, jeg kunne kun få den til at webscrape fra første side - dette skyldes nok at jeg ikke har lavet det til en funktion, som der er blevet gjort i et af eksemplerne du har lavet. \n",
    "\n",
    "Det tog mig virkelig lang tid at få det jeg har til at fungere, og er også nogenlunde tilfreds med resultatet. \n",
    "\n",
    "Jeg har derudover brugt BeautifulSoup til at finde hvor mange opslag der ligger på dba med peugeoter, men da jeg ikke har lavet en funktion til at \"skifte side\", har jeg ikke rigtig kunne bruge den til noget. \n",
    "\n",
    "Jeg regner med at arbejde videre med opgaven, da jeg gerne vil finde en ordentlig løsning"
   ]
  },
  {
   "cell_type": "markdown",
   "metadata": {},
   "source": [
    "## Solution\n",
    "\n",
    "\n"
   ]
  },
  {
   "cell_type": "code",
   "execution_count": null,
   "metadata": {
    "scrolled": true
   },
   "outputs": [],
   "source": []
  },
  {
   "cell_type": "code",
   "execution_count": 1,
   "metadata": {},
   "outputs": [
    {
     "name": "stdout",
     "output_type": "stream",
     "text": [
      "2033\n",
      "41\n",
      "[('2008', '256.000', '14.500 kr.', 'Peugeot 407, 1,6 HDi Perfection SW, Diesel, 2008, km 256000, sortmetal, 5-dørs, 16\" alufælge, Majet velholdt og køre  godt den har stået i opvamet garage. jeg køpte den af noget familie få  Ca 6 månder  siden og lavet den i god stand {jeg er mikaniker) så ny støddæmper og ny fjæder. 2 ny kaliber l bag. Ny skriver for og bag. Ny klosser for og bag.\\nhjullejer i bag. Ny egr. Og dæmpere i baglåven. . Men den har får lille motor til det jeg skal bruge. den til så skal vider nu.  Bilen har...'), ('2004', '207.000', '12.000 kr.', 'Peugeot Partner, 1,6 XT 16V Com., Benzin, 2004, km 207000, sølvmetal, 5-dørs, Familiebil sælges.. \\n\\nSommer og vinterhjul følger med i handlen. \\nBilen er synet d. 31-08-2020 ved 205.000km\\n\\nBilen er udstyret med træk, 2 skydedør, el. Ruder.\\n\\nNye måttesæt sat i bilen. Lige fået en ny forfjeder samt stabilisator stang. \\n\\nSmå rust pletter. \\n\\nBillig familiebil til pengene.'), ('2011', '290.000', '14.900 kr.', 'Peugeot 206+, 1,4 HDi 68, Diesel, 2011, km 290000, koksmetal, 5-dørs, Rigtig flot og velholdt køre 25 km på literen og koster 2100kr årligt i vægtafgift'), ('2008', '308.000', '8.500 kr.', 'Peugeot 206, 1,4 HDi, Diesel, 2008, km 308000, grå, 5-dørs, Peugeot 206 sælges da jeg ikke længere har brug for bil, udstødning er næsten ny og bilen kører og starter som den skal, ingen rust i undervognen. Bilen skal have skiftet bagbro og venstre forhjuls leje inden næste syn.\\n\\n\\nPrisen kan forhandles ved en hurtig handel.'), ('2012', '117.000', '55.000 kr.', 'Peugeot 208, 1,2 VTi Access, Benzin, 2012, km 117000, bordeaux, nysynet, klimaanlæg, aircondition, ABS, airbag, alarm, 5-dørs, centrallås, startspærre, service ok, servostyring, Bilen fremstår i meget pæn stand. Der medfølger desuden helt nyt luftfilter, kabinefilter, oliefilter og nye vinduesviskere på forruden. Alle syn og service er overholdt. Bilen er synet i december månede 2020 Har altid holdt inde i garagen Har et par måneder før det fået aircondition service udført 10/20. Den...'), ('2008', '285.000', '14.999 kr.', 'Peugeot 107, 1,0 Comfort, Benzin, 2008, km 285000, sølvmetal, 5-dørs, Flot og Fin velholdt lille økonomisk bil 2 ejers \\nbilen kører 21.7km/l undervongsbehandlet Altid Passet og serviceret til tiden fuld sevicebog \\nTandrem skiftet ved 245.00km\\nPerfekt ny begynder eller kone bil \\nPeugeot 107 1.0 5dørs årg 2008 \\nder kører langt på literen 330kr Halvårlig \\nnæste syn 06.Oktober 2022.\\nService ok (se foto). ikke ryger VinterHjul + Sommerhjul medfølger \\nsælges der jeg har fået en...'), ('2007', '251.000', '22.195 kr.', 'Peugeot 207, 1,6 HDi XR+, Diesel, 2007, km 251000, blåmetal, træk, aircondition, ABS, airbag, 5-dørs, centrallås, startspærre, service ok, servostyring, Velholdt samt velkørende bil uden oliespild.\\nNysynet og nyt service udført. Regning samt syns rapport uden anmærkninger kan fremvises.\\nOriginal Fartpilot mont.Elektronisk parkering skrive mont.Handskerum med aircondition til køling af eks sodavand. Bagagerums bakke mont.Ikke ryger bil.Bil har dog lidt “Bilka buler” men ingen store...'), ('2009', '203.000', '18.500 kr.', 'Peugeot 207, 1,4 HDi 70 Comfort+, Diesel, 2009, km 203000, sølvmetal, 5-dørs, I meget pæn stand, inde som ude. Ingen ridser og buler. Der medfølger Vinterdæk.'), ('2010', '195.000', '28.500 kr.', 'Peugeot 207, 1,6 HDi 90 Comfort+ SW, Diesel, 2010, km 195000, koksmetal, 5-dørs, 15\" alufælge, Tidligere undervognsbehandlet,fartpilot,træk,elruder,airbag mmNysynet 11/12-2021 meget pæn og velholdt bil,vægtafgift 1260 kr halvårligt,alle service overholdt hos autoriseret Peugeot forhandler.Peugeot bejstrup/midtvejs auto'), ('2007', '270.000', '25.000 kr.', 'Peugeot 307, Diesel, 2007, km 270000, sortmetal, træk, nysynet, klimaanlæg, aircondition, ABS, airbag, alarm, 5-dørs, st. car., centrallås, startspærre, service ok, servostyring, Nysynet Peugeot 307 PREMIUM 1,6 St.Car disel årg. 05.07.2007 – KM 270.000 – Netop nysynet den 24.02.2021 – Næste syn den 24.02.2023\\n\\nSprit nysynet meget velholdt og yderst velkørende økonomisk rummelig st.car med den helt store udstyrspakke. Vægtafgift 2.340.- Kr. og 19,6 km/l disel. Bilen indeholder bla:...'), ('2010', '120.000', '26.999 kr.', 'Peugeot 107, 1,0 Comfort, Benzin, 2010, km 120000, blåmetal, 5-dørs, Super velkørende økonomisk bil der kan køre op til 24km/L. Fremstår velholdt, ingen skader kun 2 små buler, ikke ryger og nysynet 08 oktober 2020. Nyserviceret (18-02-2021) Aircondition, ABS, antispin, servostyring, centrallås, CD,radio, airbag, nysynet, automatisk lys, splitbagsæde,'), ('2001', '275.000', '7.900 kr.', 'Peugeot 406, 1,8 ST stc., Benzin, 2001, km 275000, grå, træk, 5-dørs, st. car., centrallås, Peugeot 406 1,8 st. car\\nSidst Synet d. 04/12-2019, \\nBilen står brugt med et par buler, men kører fint. Der er sat ny generator i, samt skiftet olie i december.\\nNyere helårs Continental dæk.\\nNyere batteri.\\nJeg har været glad for den, og den har startet hver gang også denne vinter og kørt fra A til B uden problemer..\\nSælges nu grundet langtidssygdom.\\nTræk til 1200 kg.\\nSå hvis du kan leve med en...'), ('2009', '215.000', '14.900 kr.', 'Peugeot 206, 1,4 HDi Comfort+, Diesel, 2009, km 215000, sølvmetal, 5-dørs, Pæn og velholdt, bil, kører perfekt'), ('2017', '98.000', '61.990 kr.', 'Peugeot 108, 1,0 e-VTi 69 Allure, Benzin, 2017, km 98000, koksmetal, 5-dørs, 15\" alufælge, \\nBilen er nysynet d. 09/03-21 & serviceret for 5000km siden inkl. ny original forrude. \\n\\n\\nSuper fin og økonomisk Peugeot 108 sælges. Bilen køre som den skal og alt fungere. Den er blevet brugt som pendler bil og har dermed kørt sunde lange ture. Bilen er med digital service bog samt med kvitteringer på tidligere service. \\n\\nAf udstyr kan der nævnes: \\n- aircondition \\n- fartbegrænser \\n- fartpilot...'), ('2010', '229.000', '21.000 kr.', 'Peugeot 207, 1,6 HDi 90 Comfort+ Cool, Diesel, 2010, km 229000, hvid, 5-dørs, Syne. 21.08.2020\\nBluetooth, aux indgang , USB ingang, fartpilot,varm i sidder , kørecomputer , aircondition , \\nStarter og køre meget godt.\\n+vinterhjul'), ('2013', '147.000', '29.000 kr.', 'Peugeot 107, 1,0 Active, Benzin, 2013, km 147000, lilla, 5-dørs, Seriøse bud modtages.                Særdeles velholdt lille rap Peugeot 107 fra 2013 sælges. Den er med nye vinterdæk og nysynet. Pris. 35.000.'), ('2007', '145.500', '24.900 kr.', 'Peugeot 207, 1,4 XR, Benzin, 2007, km 145500, træk, klimaanlæg, aircondition, ABS, airbag, alarm, 5-dørs, centrallås, servostyring, Dejlig flot  Peugeot 207 fra 2007\\nDen har den et hak på venstre bagkofanger, (ses på sidste billede)\\nBilen er synet den 31 aug. 2020\\nBilen køre som den skal, starter hver gang ingen problemer.\\nBilen har kørt 145xxx \\nUdstyr bla.\\nAftagelig træk som den er synet med\\n, airc., fjernb. c.lås, el-spejle m/varme, højdejust. førersæde, sædevarme, el-ruder...'), ('2012', '147.000', '28.000 kr.', 'Peugeot 206+, 1,4 HDi 68, Diesel, 2012, km 147000, gråmetal, klimaanlæg, aircondition, ABS, airbag, 5-dørs, centrallås, startspærre, servostyring, Fin og velkørende bil, sidst synet den 5 marts 2020, helårsdæk'), ('2006', '206.000', '22.500 kr.', 'Peugeot 207, 1,6 S16, Benzin, 2006, km 206000, hvid, 5-dørs, Pæn og velholdt nysynet 15/10-2020 er 2 ejer af bilen fuld service Bog tandrem skiftet ved 186.000 km ny udstødning nyt katalysator bremser vinterdæk på 16 tommer alu fælge bilen har servo el ruder klima anlæg soltag  regn censor fjernbetjent centrallås  kører rigtig godt 109 hk som kører en 14-15kml 1570 kr hver 6 mdr i vægtafgift købte bilen af den første ejer så der har kun været 2 i bilens tid fuld serviesbog bliver ikke...'), ('2009', '147.500', '39.500 kr.', 'Peugeot 308, Diesel, 2009, km 147500, sortmetal, træk, aircondition, ABS, airbag, 5-dørs, centrallås, startspærre, service ok, 16\" alufælge servostyring, Super familiebil. Sælges da vi har købt en nyere bil.\\nBilen er synet januar sidste år, og har lige fået lavet service hvor den fik skiftet tandrem og lavet bremser bagpå.\\nBilen står lige pt. på vinterhjul. Men alufælge m. dæk følger selvfølgelig med. Må trække 1200 kg.'), ('2018', '53.000', '199.800 kr.', 'Peugeot 308 1,2 PT 130 Selection Sky SW Benzin modelår 2018 km 53000 Grå nysynet ABS airbag startspærre servostyring, 6 gear, alu., 2 zone klima, fjernb. c.lås, fartpilot, kørecomputer, infocenter, startspærre, auto. nedbl. bakspejl, udv. temp. måler, regnsensor, sædevarme, højdejust. førersæde, 4x el-ruder, el-spejle, el-klapbare sidespejle m. varme, parkeringssensor (bag), parkeringssensor (for), glastag,  automatisk start/stop, dæktryksmåler, sk, navigation, multifunktionsrat...'), ('2013', '137.000', '34.999 kr.', 'Peugeot 107 1,0 Active Benzin modelår 2013 km 137000 Sølvmetal nysynet ABS airbag startspærre servostyring, Mulighed for køb uden besigtigelse og levering til din dør, ved hjælp af auto-transport..\\n\\nBOOK dit besøg på TLF: 28 90 90 74 eller send en mail.\\nDu bedes at have MASKE på under hele besøget :)\\n\\nVenligst INGEN personlige henvendelser uden aftale.\\n\\nÅbningstider for fremvising:\\nMan-Fre: 10 - 16\\nLørdag: Lukket\\nSøndag: 11 -...'), ('2012', '154.000', '42.800 kr.', 'Peugeot 208, 1,6 e-HDi 92 Active, Diesel, 2012, km 154000, sølvmetal, træk, nysynet, aircondition, ABS, airbag, 5-dørs, centrallås, startspærre, service ok, servostyring, Pæn og velholdt Peugeot 208 1.6 e-hdi 92hk 5døre. Service overholdt. Nysynet i Nov. 2020. \\nBillig i vægtafgift 1090kr'), ('2020', '1.000', '89.900 kr.', 'Peugeot 108 1,0 e-VTi 72 Like+ Benzin modelår 2020 km 1000 Hvid ABS airbag, airc., c.lås, fjernb. c.lås, kørecomputer, infocenter, el-ruder, multifunktionsrat, bluetooth, musikstreaming via bluetooth, apple carplay, stofindtræk, læderrat, splitbagsæde, led kørelys, airbag, servo, abs'), ('2015', '93.000', '46.200 kr.', 'Peugeot 108 1,0 e-VTi 69 Active Benzin modelår 2015 km 93000 Lillametal nysynet ABS airbag servostyring, airc., fjernb. c.lås, vinterhjul, infocenter, højdejust. forsæder, el-ruder, el-spejle, automatisk start/stop, cd/radio, håndfrit til mobil, bluetooth, usb tilslutning, aux tilslutning, isofix, bagagerumsdækken, splitbagsæde, automatisk lys, 6 airbags, abs, antispin, esp, servo, 1 ejer, ikke ryger, lev. nysynet, tidligere undervognsbehandlet'), ('2008', '123.200', '35.000 kr.', 'Peugeot 407, 2,0 HDi ST Sport SW, Diesel, 2008, km 123200, sort, aircondition, ABS, airbag, alarm, 5-dørs, st. car., centrallås, startspærre, service ok, 18\" alufælge servostyring, Superfin rummelig 407 med stof indtræk og glastag.\\nKører rigtigt godt.\\nMeget lavt km tal. \\n1 ejer\\nIkke ryger\\nBagagerumsindsats original \\nVinterdæk på stålfælge, sommer på alufælge\\nTagboks medfølger.\\n\\nSælges som beset - skriv/ring og kom og prøv den.'), ('2004', '207.000', '11.500 kr.', 'Peugeot 407 1,8 SR Benzin modelår 2004 km 207000 træk nysynet ABS airbag centrallås startspærre servostyring,  03-02-2021 NYSYNET,vinterhjul, airc., c.lås, infocenter, startspærre, varme i forrude, udv. temp. måler, sædevarme, el-ruder, el-spejle, cd, bagagerumsdækken, kopholder, armlæn, tågelygter, airbag, abs, esp, servo, ikke ryger, nysynet, træk, tidligere undervognsbehandlet ,Man - fre   træffes kun på tlf'), ('2006', '195.000', '12.000 kr.', 'Peugeot 307, Benzin, 2006, km 195000, sølvmetal, nysynet, ABS, airbag, 5-dørs, centrallås, startspærre, servostyring, tidligere reg. ys27411. En ejer fra ny, nysynet, lige til at købe nr. plade til. En nøgle, en skramme og ingen bagrudevisker. Hvis interesse til prisen, så ring 42173404. Svarer ikke sms og mail.'), ('2004', '141.000', '16.000 kr.', 'Peugeot 206, 1,4 Edition, Benzin, 2004, km 141000, grønmetal, nysynet, ABS, airbag, 3-dørs, centrallås, service ok, servostyring, Dejlig lille bil, kører godt, god comfort og let at parkere. Sommerhjul (alufælge) og vinterhjul. Nysynet marts 2021.'), ('2010', '', '16.500 kr.', 'Peugeot 206+, 1,4 HDi 70 Comfort+, Diesel, 2010, hvid, 5-dørs, Sælger denne Peugeot 206+ 1.4 hdi \\nBilen har kørt 262xxx. Blev synet i maj 2020. Økonomisk bil som kører langt på literen, den kører som den skal og fejler intet. Bilen har lige fået en ny bagbro. Står pæn indvendig og udvendig.\\nBilen har\\nAircondition \\nVarme i sæder \\nEl ruder \\nVinterdæk'), ('2009', '375.000', '9.900 kr.', 'Peugeot 207 1,6 HDi 90 Diesel modelår 2009 km 375000 ABS airbag, Bilen kører rigtig godt og alt elektronik virker som det skal. MEN bilen driller i 5 gear, derfor prisen. men kan sagtens kører og starte, det er kun 5. gear der driller.\\n\\n, airc., fjernb. c.lås, fartpilot, sædevarme, el-ruder, el-spejle \\n\\nBliver solgt som den står og PRISEN ER FAST IGEN BUD TAK!'), ('2017', '27.000', '79.900 kr.', 'Peugeot 108 1,0 e-VTi 69 Allure Benzin modelår 2017 km 27000 Hvid ABS airbag, 15\" alufælge, airc., fjernb. c.lås, fartpilot, kørecomputer, infocenter, varme i forrude, højdejust. forsæder, el-ruder, el-spejle, dab radio, multifunktionsrat, håndfrit til mobil, usb tilslutning, aux tilslutning, isofix, kopholder, stofindtræk, læderrat, xenonlys, tågelygter, db. airbags, tonede ruder, ikke ryger'), ('2013', '117.000', '199.700 kr.', 'Peugeot 508 2,2 HDi 204 GT SW aut. Diesel aut. Automatgear modelår 2013 km 117000 Sort ABS airbag startspærre servostyring, GT MODEL, MASSER UDSTYR OG 204 HK, PANORAMA GLASTAG, NAVIGATION, BLUETOOTH, DELLÆDER, HEADUP DISPLAY, XENONLYS, PARKERINGSSENSOR, FARTPILOT, MULTIFUNKTIONSRAT I LÆDER, RAT GEARSKIFTE, NØGLEFRI BETJENING, EL INDST. FORSÆDER, EL BETJENT BAGKLAP, aut., 18\" alufælge, 2 zone klima, fjernb. c.lås, kørecomputer, infocenter, startspærre, udv. temp. måler, sædevarme...'), ('2006', '215.000', '19.900 kr.', 'Peugeot 407 1,8 SR Benzin modelår 2006 km 215000 Sort klimaanlæg ABS airbag centrallås startspærre servostyring, c.lås, fjernb. c.lås, infocenter, startspærre, 4x el-ruder, el-spejle, cd, fuldaut. klima, armlæn, kopholder, abs, esp, servo, aftag. træk\\ntandrem er skiftet ved 161000 km\\n\\nsynet i 24-03-2021'), ('2013', '52.000', '93.200 kr.', 'Peugeot 2008 1,2 VTi 82 Active Benzin modelår 2013 km 52000 Sortmetal nysynet ABS airbag servostyring, 16\" alufælge, airc., fjernb. c.lås, vinterhjul, fartpilot, kørecomputer, udv. temp. måler, sædevarme, højdejust. forsæder, el-ruder, el-spejle m/varme, dæktryksmåler, cd/radio, håndfrit til mobil, bluetooth, usb tilslutning, aux tilslutning, armlæn, isofix, bagagerumsdækken, splitbagsæde, kopholder, tågelygter, automatisk lys, 6 airbags, abs, antispin, esp, servo, 1 ejer, ikke ryger...'), ('2015', '137.000', '139.900 kr.', 'Peugeot 508 1,6 e-HDi 114 Active ESG Diesel aut. Automatgear modelår 2015 km 137000 Sort træk klimaanlæg ABS airbag startspærre servostyring, UDSTYRSMODEL - NAVIGATION - BAKKAMERA - AFTAGELIGT TRÆK - P-SENSOR - aut., aut.gear/tiptronic, ratgearskifte, 16\" alufælge, fuldaut. klima, 2 zone klima, køl i handskerum, fjernb. c.lås, fartpilot, kørecomputer, infocenter, startspærre, auto. nedbl. bakspejl, udv. temp. måler, regnsensor, sædevarme, højdejust. forsæder, 4x el-ruder, el-klapbare...'), ('2017', '74.000', '139.800 kr.', 'Peugeot 308 1,6 BlueHDi 120 Active SW Diesel modelår 2017 km 74000 Mørkblåmetal ABS airbag startspærre servostyring, YDERST VELKØRENDE OG ØKONOMISK FAMILIEBIL MED ORIGINAL NAVIGATION\\n\\n✔️ EURO6 DIESELMOTOR\\n✔️ 2 ZONE KLIMA\\n✔️ NAVIGATION\\n✔️ REGN- OG LYSSENSOR\\n✔️ AUT. NEDBL. BAKSPEJL\\n✔️ PARKERINGSSENSOR(bag)\\n\\n➕ MULIGHED FOR EFTERMONTERING AF APPLE CARPLAY(TRÅDLØST) / ANDROID AUTO OG BAKKAMERA\\n\\n2 zone klima, fartpilot, 16\" alufælge, fjernb. c.lås, parkeringssensor (bag), kørecomputer...'), ('2013', '51.000', '36.400 kr.', 'Peugeot 107, 1,0 Active, Benzin, 2013, km 51000, 5-dørs, Annonce Peugeot 107 , a°rg. 2014, 107 Peugeot fra 2014 med kun 50000km som køre helt perfekt. Ingen aircondition og der er armlæn monteret pa° førersædet. Jeg har haft bilen i næsten 4 a°r Dæk 94% Næste service 56000km \\n\\n  Bytte med større!!'), ('2018', '34.000', '194.900 kr.', 'Peugeot 308 1,2 PT 130 Selection Sky SW Benzin modelår 2018 km 34000 Sølvmetal ABS airbag startspærre servostyring, Bemærk:\\n✔️ Aftageligt træk\\n✔️ Navigation\\n✔️ Android auto Apple carplay,\\n✔️ Flotte originale 18\" Saphir fælge\\n✔️ Originale 16\" Allure fælge vinterhjul\\n✔️ 2-zone klimaanlæg\\n✔️ Fartpilot\\n\\n16\" alufælge, 2 zone klima, fjernb. c.lås, fartpilot, kørecomputer, infocenter, startspærre, auto. nedbl. bakspejl, udv. temp. måler, regnsensor, sædevarme, højdejust. forsæder, glastag...'), ('2015', '196.000', '84.990 kr.', 'Peugeot 308 1,6 BlueHDi 120 Active SW Diesel modelår 2015 km 196000 Brunmetal nysynet ABS airbag centrallås servostyring, Kan finansieres med 0 kr i udbetaling!! Forsikring tilbydes fra 2985 kr inkl kasko/årligt!! Vi tager gerne din bil i bytte!! 2 zone klima, c.lås, fjernb. c.lås, fartpilot, auto. nedbl. bakspejl, udv. temp. måler, regnsensor, sædevarme, højdejust. forsæder, 4x el-ruder, el-spejle, parkeringssensor (bag), automatisk start/stop, cd/radio, multifunktionsrat, navigation...'), ('2010', '120.000', '34.900 kr.', 'Peugeot 206+ 1,4 HDi 70 Comfort Diesel modelår 2010 km 120000 Sølvmetal træk nysynet ABS airbag alarm servostyring, el-ruder, el-spejle, airbag, abs, antispin, esp, servo, cd/radio, airc., alarm, fjernb. c.lås, diesel partikel filter,sædevarme, tidligere undervognsbehandlet, tågelygter, træk, service ok, nysynet, ikke ryger, isofix, 1 ejer.\\nSuper lækker velkørende bil, meget velholdt.\\nDer tages for behold for tastefejl på udstyret.\\n\\n-- HTN BILER --\\nKøb, Salg, Bytte. \\nVi har altid...')]\n"
     ]
    }
   ],
   "source": [
    "import requests\n",
    "from bs4 import BeautifulSoup\n",
    "from tqdm import tqdm\n",
    "\n",
    "   \n",
    "\n",
    "url = 'https://www.dba.dk/biler/biler/maerke-peugeot/'\n",
    "r = requests.get(url, headers={'User-Agent': 'Mozilla/5.0'})\n",
    "r.raise_for_status()\n",
    "\n",
    "soup = BeautifulSoup(r.text, 'html.parser')\n",
    "res = soup.select('div[class^=a] > span > small')[0].getText().strip('( )')\n",
    "no_of_events = res\n",
    "    \n",
    "    \n",
    "\n",
    "event_cells = soup.find_all('tr', {'class' : 'dbaListing'})\n",
    "#print('size',len(event_cells))\n",
    "#print(event_cells)\n",
    "scraped_cars_per_page = []\n",
    "\n",
    "for event_cell in event_cells:\n",
    "\n",
    "    modelår = str(event_cell.select('td[title^=Modelår]')[0].getText()).strip()\n",
    "    km = event_cell.select('td[title^=Km]')[0].getText().strip()\n",
    "    pris = event_cell.select('td[title^=Pris]')[0].getText().strip()\n",
    "    beskrivelse = event_cell.select('a[class^=listingLink]')[1].getText().strip()\n",
    "\n",
    "\n",
    "    scraped_cars_per_page.append((modelår, km, pris, beskrivelse))\n",
    "\n",
    "\n",
    "\n",
    "\n",
    "\n",
    "\n",
    "#print(len(scraped_cars))    \n",
    "#print(scraped_cars)    \n",
    "print(no_of_events)\n",
    "print(len(scraped_cars_per_page))\n",
    "print(scraped_cars_per_page)\n",
    "#print(type(res))\n"
   ]
  },
  {
   "cell_type": "code",
   "execution_count": 23,
   "metadata": {},
   "outputs": [
    {
     "name": "stdout",
     "output_type": "stream",
     "text": [
      "<tr class=\"dbaListing listing hasInsertionFee topListing\">\n",
      "<td class=\"pictureColumn\" colspan=\"1\">\n",
      "<div class=\"thumbnailContainer\">\n",
      "<a class=\"thumbnailContainerInner\" href=\"https://www.dba.dk/peugeot-207-16-hdi-90/id-1077752072/\">\n",
      "<div class=\"thumbnail image-placeholder lazy\" data-original=\"https://i.ebayimg.com/images/g/ycIAAOSwxVJgWQ46/s-l200.jpg\"></div>\n",
      "</a>\n",
      "</div>\n",
      "</td>\n",
      "<td class=\"mainContent\" colspan=\"2\">\n",
      "<script type=\"application/ld+json\">\r\n",
      "            {\r\n",
      "            \"@context\": \"http://schema.org\",\r\n",
      "            \"@type\": \"Product\",\r\n",
      "            \"name\": \"Peugeot 207, 1,6 HDi 90 Comfort+ SW, Diesel, 2009...\",\r\n",
      "            \"image\": \"https://i.ebayimg.com/images/g/ycIAAOSwxVJgWQ46/s-l200.jpg\",\r\n",
      "            \"url\": \"https://www.dba.dk/peugeot-207-16-hdi-90/id-1077752072/\",\r\n",
      "            \"offers\": {\r\n",
      "            \"@type\": \"Offer\",\r\n",
      "            \"priceCurrency\": \"DKK\",\r\n",
      "            \"price\": \"16900\"\r\n",
      "            }\r\n",
      "            }\r\n",
      "        </script>\n",
      "<a class=\"listingLink\" href=\"https://www.dba.dk/peugeot-207-16-hdi-90/id-1077752072/\">\n",
      "<span class=\"headline-block\">\n",
      "</span>\n",
      "</a>\n",
      "<div class=\"expandable-box expandable-box-collapsed\">\n",
      "<a class=\"listingLink\" href=\"https://www.dba.dk/peugeot-207-16-hdi-90/id-1077752072/\">Peugeot 207, 1,6 HDi 90 Comfort+ SW, Diesel, 2009, km 320000, sølvmetal, 5-dørs, Rigtig flot og yderst velholdt igen bemærkninger overhovedet. Der følgere sommerhjul med </a>\n",
      "<a class=\"link-to-listing\" href=\"https://www.dba.dk/peugeot-207-16-hdi-90/id-1077752072/\">Se hele annoncen</a>\n",
      "</div>\n",
      "<ul class=\"details\">\n",
      "<li>\n",
      "<a class=\"visitedLink\" href=\"https://www.dba.dk/peugeot-207-16-hdi-90/id-1077752072/\"><span class=\"icon visitedIcon\" title=\"Du har set annoncen\"></span></a>\n",
      "</li>\n",
      "<li>\n",
      "<span>\r\n",
      "    8000 Aarhus C\r\n",
      "</span>\n",
      "</li>\n",
      "<li>\n",
      "<div class=\"toolTip svg-nemid\" rel=\"nemidToolTip\"></div>\n",
      "</li>\n",
      "</ul>\n",
      "</td>\n",
      "<td class=\"simple noWrap listingColumn\" style=\"text-align: right\" title=\"Km\">\r\n",
      "    320.000\r\n",
      "</td>\n",
      "<td class=\"simple noWrap listingColumn\" style=\"text-align: left\" title=\"Modelår\">\r\n",
      "    2009\r\n",
      "</td>\n",
      "<td class=\"simple noWrap listingColumn\" style=\"text-align: left\" title=\"Dato\">\r\n",
      "    I går\r\n",
      "</td>\n",
      "<td class=\"simple noWrap listingColumn\" style=\"text-align: right\" title=\"Pris\">\r\n",
      "    16.900 kr.\r\n",
      "</td>\n",
      "</tr>\n"
     ]
    }
   ],
   "source": [
    "print(event_cells[0])"
   ]
  },
  {
   "cell_type": "code",
   "execution_count": 24,
   "metadata": {},
   "outputs": [
    {
     "name": "stdout",
     "output_type": "stream",
     "text": [
      "2020\n",
      "6.000\n",
      "419.900 kr.\n",
      "Peugeot 3008 1,6 Hybrid4 GT EAT8 Benzin 4x4 4x4 aut. Automatgear modelår 2020 km 6000 Perlemorshvid ABS airbag servostyring, Fjernb. c.lås, Parkeringssensor, Ratgearskifte, Kørecomputer, Auto. nedbl. Bakspejl, Udv. temp. måler, Regnsensor, Sædevarme, Højdejust. førersæde, 4x el-ruder, El-klapbare sidespejle m. varme, Bakkamera, Dæktryksmåler, Navigation, Multifunktionsrat, Bluetooth, Musikstreaming via bluetooth, Android Auto, Apple CarPlay, Armlæn, Isofix, Kopholder, Splitbagsæde...\n"
     ]
    }
   ],
   "source": [
    "print(modelår)\n",
    "print(km)\n",
    "print(pris)\n",
    "print(beskrivelse)\n",
    "#soup.find_all('a', {'class' : 'listingLink'})\n"
   ]
  },
  {
   "cell_type": "code",
   "execution_count": null,
   "metadata": {},
   "outputs": [],
   "source": [
    "\n",
    "\n",
    "        \n"
   ]
  }
 ],
 "metadata": {
  "kernelspec": {
   "display_name": "Python 3",
   "language": "python",
   "name": "python3"
  },
  "language_info": {
   "codemirror_mode": {
    "name": "ipython",
    "version": 3
   },
   "file_extension": ".py",
   "mimetype": "text/x-python",
   "name": "python",
   "nbconvert_exporter": "python",
   "pygments_lexer": "ipython3",
   "version": "3.7.6"
  }
 },
 "nbformat": 4,
 "nbformat_minor": 4
}
