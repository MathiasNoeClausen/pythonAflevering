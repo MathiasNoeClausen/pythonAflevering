{
 "cells": [
  {
   "cell_type": "markdown",
   "metadata": {},
   "source": [
    "# Week 3 handin"
   ]
  },
  {
   "cell_type": "markdown",
   "metadata": {},
   "source": [
    "## 01 Assignment\n",
    "Ex 1 Classes\n",
    "1. Create 3 classes: Student, DataSheet and Course\n",
    "2. A student has a data_sheet and a data_sheet has multiple courses in particular order\n",
    "3. Each course has name, classroom, teacher, ETCS and optional grade if course is taken.\n",
    "4. In Student create init() so that a Student can be initiated with name, gender, data_sheet and image_url\n",
    "5. In DataSheet create a method to get_grades_as_list()\n",
    "6. In student create a method: get_avg_grade()\n",
    "7. Create a function that can generate n number of students with random: name, gender, courses (from a fixed list of course names), grades, img_url\n",
    "8. Let the function write the result to a csv file with format stud_name, course_name, teacher, ects, classroom, grade, img_url\n",
    "9. Read student data into a list of Students from a csv file:\n",
    "10. loop through the list and print each student with name, img_url and avg_grade.\n",
    "11. sort the list by avg_grade\n",
    "12. create a bar chart with student_name on x and avg_grade on y-axis\n",
    "13. Make a method on Student class that can show progression of the study in % (add up ECTS from all passed courses divided by total of 150 total points (equivalent to 5 semesters))\n",
    "14. Show a bar chart of distribution of study progression on x-axis and number of students in each category on y-axis. (e.g. make 10 categories from 0-100%)\n",
    "15. Extra: Make the Datasheet class iterable so that next(data_sheet) will return the next course in the list"
   ]
  },
  {
   "cell_type": "markdown",
   "metadata": {},
   "source": [
    "## 02 Status\n",
    "Jeg nåede det meste af exercise 1. Havde dog nogle forståelses problemer med nogle af opgaverne, og har derfor muligvis ikke lavet dem, på den måde du tænkte, dog virker det der er lavet.\n",
    "I opgaven med bar chart, havde jeg nogle problemer og fik det aldrig lavet helt færdigt - må kigge ekstra nøje med når det bliver gennemgået i morgen :-)\n"
   ]
  },
  {
   "cell_type": "markdown",
   "metadata": {},
   "source": [
    "## 03 Solution part 1"
   ]
  },
  {
   "cell_type": "code",
   "execution_count": 1,
   "metadata": {},
   "outputs": [
    {
     "name": "stdout",
     "output_type": "stream",
     "text": [
      "Stud_name: Gustav image_url: image_url grade: 7\n",
      "Stud_name: Mathias image_url: image_url grade: 4\n",
      "Stud_name: Mathias image_url: image_url grade: 10\n",
      "Stud_name: Mathias image_url: image_url grade: 2\n",
      "Stud_name: Rasmus image_url: image_url grade: 4\n",
      "Stud_name: Mathias image_url: image_url grade: 4\n",
      "Stud_name: Mathias image_url: image_url grade: 2\n",
      "Stud_name: David image_url: image_url grade: 10\n",
      "Stud_name: Joachim image_url: image_url grade: 10\n",
      "Stud_name: David image_url: image_url grade: 7\n",
      "Stud_name: Gustav image_url: image_url grade: 10\n",
      "Stud_name: Gustav image_url: image_url grade: 4\n",
      "Stud_name: David image_url: image_url grade: 2\n",
      "Stud_name: Gustav image_url: image_url grade: 0\n",
      "Stud_name: David image_url: image_url grade: 2\n",
      "Stud_name: Rasmus image_url: image_url grade: 7\n",
      "Stud_name: Joachim image_url: image_url grade: 4\n",
      "Stud_name: Joachim image_url: image_url grade: 0\n",
      "Stud_name: Rasmus image_url: image_url grade: 0\n",
      "Stud_name: David image_url: image_url grade: 12\n",
      "Stud_name: Joachim image_url: image_url grade: 4\n",
      "Stud_name: Mathias image_url: image_url grade: 2\n",
      "Stud_name: David image_url: image_url grade: 12\n",
      "Stud_name: Rasmus image_url: image_url grade: 12\n",
      "Stud_name: David image_url: image_url grade: 2\n",
      "Stud_name: Joachim image_url: image_url grade: 4\n",
      "Stud_name: Gustav image_url: image_url grade: 2\n",
      "Stud_name: Rasmus image_url: image_url grade: 0\n",
      "Stud_name: Rasmus image_url: image_url grade: 0\n",
      "Stud_name: Mathias image_url: image_url grade: 0\n",
      "Stud_name: Rasmus image_url: image_url grade: 0\n",
      "Stud_name: Rasmus image_url: image_url grade: 4\n",
      "Stud_name: Mathias image_url: image_url grade: 2\n",
      "Stud_name: Mathias image_url: image_url grade: 10\n",
      "Stud_name: Gustav image_url: image_url grade: 12\n"
     ]
    }
   ],
   "source": [
    "from modules import week3\n",
    "\n",
    "week3.generate_students(2)"
   ]
  },
  {
   "cell_type": "code",
   "execution_count": 2,
   "metadata": {},
   "outputs": [
    {
     "name": "stdout",
     "output_type": "stream",
     "text": [
      "Stud_name: Gustav image_url: image_url grade: 7\n",
      "Stud_name: Mathias image_url: image_url grade: 4\n",
      "Stud_name: Mathias image_url: image_url grade: 10\n",
      "Stud_name: Mathias image_url: image_url grade: 2\n",
      "Stud_name: Rasmus image_url: image_url grade: 4\n",
      "Stud_name: Mathias image_url: image_url grade: 4\n",
      "Stud_name: Mathias image_url: image_url grade: 2\n",
      "Stud_name: David image_url: image_url grade: 10\n",
      "Stud_name: Joachim image_url: image_url grade: 10\n",
      "Stud_name: David image_url: image_url grade: 7\n",
      "Stud_name: Gustav image_url: image_url grade: 10\n",
      "Stud_name: Gustav image_url: image_url grade: 4\n",
      "Stud_name: David image_url: image_url grade: 2\n",
      "Stud_name: Gustav image_url: image_url grade: 0\n",
      "Stud_name: David image_url: image_url grade: 2\n",
      "Stud_name: Rasmus image_url: image_url grade: 7\n",
      "Stud_name: Joachim image_url: image_url grade: 4\n",
      "Stud_name: Joachim image_url: image_url grade: 0\n",
      "Stud_name: Rasmus image_url: image_url grade: 0\n",
      "Stud_name: David image_url: image_url grade: 12\n",
      "Stud_name: Joachim image_url: image_url grade: 4\n",
      "Stud_name: Mathias image_url: image_url grade: 2\n",
      "Stud_name: David image_url: image_url grade: 12\n",
      "Stud_name: Rasmus image_url: image_url grade: 12\n",
      "Stud_name: David image_url: image_url grade: 2\n",
      "Stud_name: Joachim image_url: image_url grade: 4\n",
      "Stud_name: Gustav image_url: image_url grade: 2\n",
      "Stud_name: Rasmus image_url: image_url grade: 0\n",
      "Stud_name: Rasmus image_url: image_url grade: 0\n",
      "Stud_name: Mathias image_url: image_url grade: 0\n",
      "Stud_name: Rasmus image_url: image_url grade: 0\n",
      "Stud_name: Rasmus image_url: image_url grade: 4\n",
      "Stud_name: Mathias image_url: image_url grade: 2\n",
      "Stud_name: Mathias image_url: image_url grade: 10\n",
      "Stud_name: Gustav image_url: image_url grade: 12\n",
      "Stud_name: Joachim image_url: image_url grade: 7\n",
      "Stud_name: Mathias image_url: image_url grade: 12\n"
     ]
    }
   ],
   "source": [
    "\n",
    "input_file = ('/home/jovyan/python_handin_template/week3.csv')\n",
    "week3.read_csv(input_file)"
   ]
  },
  {
   "cell_type": "code",
   "execution_count": 3,
   "metadata": {},
   "outputs": [
    {
     "name": "stdout",
     "output_type": "stream",
     "text": [
      "Stud_name: Gustav image_url: image_url grade: 7\n",
      "Stud_name: Mathias image_url: image_url grade: 4\n",
      "Stud_name: Mathias image_url: image_url grade: 10\n",
      "Stud_name: Mathias image_url: image_url grade: 2\n",
      "Stud_name: Rasmus image_url: image_url grade: 4\n",
      "Stud_name: Mathias image_url: image_url grade: 4\n",
      "Stud_name: Mathias image_url: image_url grade: 2\n",
      "Stud_name: David image_url: image_url grade: 10\n",
      "Stud_name: Joachim image_url: image_url grade: 10\n",
      "Stud_name: David image_url: image_url grade: 7\n",
      "Stud_name: Gustav image_url: image_url grade: 10\n",
      "Stud_name: Gustav image_url: image_url grade: 4\n",
      "Stud_name: David image_url: image_url grade: 2\n",
      "Stud_name: Gustav image_url: image_url grade: 0\n",
      "Stud_name: David image_url: image_url grade: 2\n",
      "Stud_name: Rasmus image_url: image_url grade: 7\n",
      "Stud_name: Joachim image_url: image_url grade: 4\n",
      "Stud_name: Joachim image_url: image_url grade: 0\n",
      "Stud_name: Rasmus image_url: image_url grade: 0\n",
      "Stud_name: David image_url: image_url grade: 12\n",
      "Stud_name: Joachim image_url: image_url grade: 4\n",
      "Stud_name: Mathias image_url: image_url grade: 2\n",
      "Stud_name: David image_url: image_url grade: 12\n",
      "Stud_name: Rasmus image_url: image_url grade: 12\n",
      "Stud_name: David image_url: image_url grade: 2\n",
      "Stud_name: Joachim image_url: image_url grade: 4\n",
      "Stud_name: Gustav image_url: image_url grade: 2\n",
      "Stud_name: Rasmus image_url: image_url grade: 0\n",
      "Stud_name: Rasmus image_url: image_url grade: 0\n",
      "Stud_name: Mathias image_url: image_url grade: 0\n",
      "Stud_name: Rasmus image_url: image_url grade: 0\n",
      "Stud_name: Rasmus image_url: image_url grade: 4\n",
      "Stud_name: Mathias image_url: image_url grade: 2\n",
      "Stud_name: Mathias image_url: image_url grade: 10\n",
      "Stud_name: Gustav image_url: image_url grade: 12\n",
      "Stud_name: Joachim image_url: image_url grade: 7\n",
      "Stud_name: Mathias image_url: image_url grade: 12\n"
     ]
    },
    {
     "ename": "TypeError",
     "evalue": "__init__() missing 3 required positional arguments: 'datasheet', 'gender', and 'image_url'",
     "output_type": "error",
     "traceback": [
      "\u001b[0;31m---------------------------------------------------------------------------\u001b[0m",
      "\u001b[0;31mTypeError\u001b[0m                                 Traceback (most recent call last)",
      "\u001b[0;32m<ipython-input-3-801a2dd503ce>\u001b[0m in \u001b[0;36m<module>\u001b[0;34m\u001b[0m\n\u001b[0;32m----> 1\u001b[0;31m \u001b[0mweek3\u001b[0m\u001b[0;34m.\u001b[0m\u001b[0mstudent_bar_chart\u001b[0m\u001b[0;34m(\u001b[0m\u001b[0;34m)\u001b[0m\u001b[0;34m\u001b[0m\u001b[0;34m\u001b[0m\u001b[0m\n\u001b[0m",
      "\u001b[0;32m~/python_handin_template/modules/week3.py\u001b[0m in \u001b[0;36mstudent_bar_chart\u001b[0;34m()\u001b[0m\n\u001b[1;32m     83\u001b[0m \u001b[0;32mdef\u001b[0m \u001b[0mstudent_bar_chart\u001b[0m\u001b[0;34m(\u001b[0m\u001b[0;34m)\u001b[0m\u001b[0;34m:\u001b[0m\u001b[0;34m\u001b[0m\u001b[0;34m\u001b[0m\u001b[0m\n\u001b[1;32m     84\u001b[0m     \u001b[0mstudent_list\u001b[0m \u001b[0;34m=\u001b[0m \u001b[0mread_csv\u001b[0m\u001b[0;34m(\u001b[0m\u001b[0;34m'/home/jovyan/python_handin_template/week3.csv'\u001b[0m\u001b[0;34m)\u001b[0m\u001b[0;34m\u001b[0m\u001b[0;34m\u001b[0m\u001b[0m\n\u001b[0;32m---> 85\u001b[0;31m     \u001b[0mstudent\u001b[0m \u001b[0;34m=\u001b[0m \u001b[0mStudent\u001b[0m\u001b[0;34m(\u001b[0m\u001b[0mstudent_list\u001b[0m\u001b[0;34m)\u001b[0m\u001b[0;34m\u001b[0m\u001b[0;34m\u001b[0m\u001b[0m\n\u001b[0m\u001b[1;32m     86\u001b[0m     \u001b[0;32mfor\u001b[0m \u001b[0ms\u001b[0m \u001b[0;32min\u001b[0m \u001b[0mstudent\u001b[0m\u001b[0;34m:\u001b[0m\u001b[0;34m\u001b[0m\u001b[0;34m\u001b[0m\u001b[0m\n\u001b[1;32m     87\u001b[0m         \u001b[0mplt\u001b[0m\u001b[0;34m.\u001b[0m\u001b[0mbar\u001b[0m\u001b[0;34m(\u001b[0m\u001b[0mname\u001b[0m\u001b[0;34m,\u001b[0m \u001b[0mgrade\u001b[0m\u001b[0;34m,\u001b[0m \u001b[0mwidth\u001b[0m\u001b[0;34m=\u001b[0m\u001b[0;36m0.5\u001b[0m\u001b[0;34m,\u001b[0m \u001b[0malign\u001b[0m\u001b[0;34m=\u001b[0m\u001b[0;34m'center'\u001b[0m\u001b[0;34m)\u001b[0m\u001b[0;34m\u001b[0m\u001b[0;34m\u001b[0m\u001b[0m\n",
      "\u001b[0;31mTypeError\u001b[0m: __init__() missing 3 required positional arguments: 'datasheet', 'gender', and 'image_url'"
     ]
    }
   ],
   "source": [
    "\n",
    "week3.student_bar_chart()"
   ]
  },
  {
   "cell_type": "markdown",
   "metadata": {},
   "source": [
    "## 04 Solution part 2"
   ]
  },
  {
   "cell_type": "code",
   "execution_count": null,
   "metadata": {},
   "outputs": [],
   "source": [
    "# 2.1"
   ]
  },
  {
   "cell_type": "code",
   "execution_count": null,
   "metadata": {},
   "outputs": [],
   "source": []
  },
  {
   "cell_type": "code",
   "execution_count": null,
   "metadata": {},
   "outputs": [],
   "source": []
  }
 ],
 "metadata": {
  "kernelspec": {
   "display_name": "Python 3",
   "language": "python",
   "name": "python3"
  },
  "language_info": {
   "codemirror_mode": {
    "name": "ipython",
    "version": 3
   },
   "file_extension": ".py",
   "mimetype": "text/x-python",
   "name": "python",
   "nbconvert_exporter": "python",
   "pygments_lexer": "ipython3",
   "version": "3.7.6"
  }
 },
 "nbformat": 4,
 "nbformat_minor": 4
}
