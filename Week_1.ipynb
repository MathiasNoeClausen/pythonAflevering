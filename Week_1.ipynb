{
 "cells": [
  {
   "cell_type": "markdown",
   "metadata": {},
   "source": [
    "# Week 1 handin"
   ]
  },
  {
   "cell_type": "markdown",
   "metadata": {},
   "source": [
    "## 01 Assignment\n",
    "Here is the text for the assignment linked to"
   ]
  },
  {
   "cell_type": "markdown",
   "metadata": {},
   "source": [
    "## 02 Status\n",
    "Here is a status on the handin. How far you got. What is implemented and what is not"
   ]
  },
  {
   "cell_type": "markdown",
   "metadata": {},
   "source": [
    "## 03 Solution part 1"
   ]
  },
  {
   "cell_type": "code",
   "execution_count": 1,
   "metadata": {},
   "outputs": [
    {
     "name": "stdout",
     "output_type": "stream",
     "text": [
      "['Hans', 'Helene']\n"
     ]
    }
   ],
   "source": [
    "names = ['Hans','Lene','Helene','John']\n",
    "names2 = [n for n in names if n.startswith('H')]\n",
    "print(names2)"
   ]
  },
  {
   "cell_type": "code",
   "execution_count": 6,
   "metadata": {
    "scrolled": false
   },
   "outputs": [
    {
     "name": "stdout",
     "output_type": "stream",
     "text": [
      "[1, 8, 27, 64, 125, 216, 343, 512, 729, 1000, 1331, 1728, 2197, 2744, 3375, 4096, 4913, 5832, 6859, 8000, 9261, 10648, 12167, 13824, 15625, 17576, 19683, 21952, 24389, 27000, 29791, 32768, 35937, 39304, 42875, 46656, 50653, 54872, 59319, 64000, 68921, 74088, 79507, 85184, 91125, 97336, 103823, 110592, 117649, 125000, 132651, 140608, 148877, 157464, 166375, 175616, 185193, 195112, 205379, 216000, 226981, 238328, 250047, 262144, 274625, 287496, 300763, 314432, 328509, 343000, 357911, 373248, 389017, 405224, 421875, 438976, 456533, 474552, 493039, 512000, 531441, 551368, 571787, 592704, 614125, 636056, 658503, 681472, 704969, 729000, 753571, 778688, 804357, 830584, 857375, 884736, 912673, 941192, 970299, 1000000]\n"
     ]
    }
   ],
   "source": [
    "numbers = [element**3 for element in range(1, 101)]\n",
    "print(numbers)"
   ]
  },
  {
   "cell_type": "code",
   "execution_count": 32,
   "metadata": {},
   "outputs": [
    {
     "name": "stdout",
     "output_type": "stream",
     "text": [
      "((4, 'Hans'), (4, 'Lene'), (6, 'Helene'), (4, 'John'))\n"
     ]
    }
   ],
   "source": [
    "names = ['Hans','Lene','Helene','John']\n",
    "name_len = [len(element) for element in names]\n",
    "names_tuple = tuple((name_len[i],names[i]) for i in range(0,len(name_len)))\n",
    "print(names_tuple)"
   ]
  },
  {
   "cell_type": "code",
   "execution_count": 33,
   "metadata": {},
   "outputs": [
    {
     "name": "stdout",
     "output_type": "stream",
     "text": [
      "['1', '2', '3']\n"
     ]
    }
   ],
   "source": [
    "str = 'hej123hej'\n",
    "nummeric = [element for element in str if element.isdigit()]\n",
    "print(nummeric)"
   ]
  },
  {
   "cell_type": "code",
   "execution_count": 17,
   "metadata": {
    "scrolled": true
   },
   "outputs": [
    {
     "name": "stdout",
     "output_type": "stream",
     "text": [
      "{(1, 3), (6, 6), (5, 6), (2, 1), (6, 2), (1, 6), (5, 1), (2, 5), (1, 2), (3, 3), (5, 5), (4, 4), (6, 3), (1, 5), (3, 6), (2, 2), (4, 1), (1, 1), (6, 4), (3, 2), (2, 6), (5, 4), (4, 5), (5, 2), (1, 4), (2, 3), (4, 2), (6, 5), (3, 5), (5, 3), (4, 6), (6, 1), (3, 1), (4, 3), (3, 4), (2, 4)}\n"
     ]
    }
   ],
   "source": [
    "dice = [1,2,3,4,5,6]\n",
    "combinations = [(d,d2) for d in dice for d2 in dice]\n",
    "print(set(combinations))"
   ]
  },
  {
   "cell_type": "markdown",
   "metadata": {},
   "source": [
    "## 04 Solution part 2"
   ]
  },
  {
   "cell_type": "code",
   "execution_count": 4,
   "metadata": {},
   "outputs": [
    {
     "name": "stdout",
     "output_type": "stream",
     "text": [
      "{'Hans': 4, 'Lene': 4, 'Helene': 6, 'John': 4}\n"
     ]
    }
   ],
   "source": [
    "names = ['Hans','Lene','Helene','John']\n",
    "dictionary = {element:len(element) for element in names}\n",
    "print(dictionary)"
   ]
  },
  {
   "cell_type": "code",
   "execution_count": 9,
   "metadata": {},
   "outputs": [
    {
     "name": "stdout",
     "output_type": "stream",
     "text": [
      "{4: 2.0, 9: 3.0, 25: 5.0, 36: 6.0, 49: 7.0}\n"
     ]
    }
   ],
   "source": [
    "numbers = [4,9,25,36,49]\n",
    "dictionary = {number:number**0.5 for number in numbers}\n",
    "print(dictionary)"
   ]
  },
  {
   "cell_type": "code",
   "execution_count": 42,
   "metadata": {},
   "outputs": [
    {
     "name": "stdout",
     "output_type": "stream",
     "text": [
      "{(1, 1): 2.7777777777777777, (1, 2): 2.7777777777777777, (1, 3): 2.7777777777777777, (1, 4): 2.7777777777777777, (1, 5): 2.7777777777777777, (1, 6): 2.7777777777777777, (2, 1): 2.7777777777777777, (2, 2): 2.7777777777777777, (2, 3): 2.7777777777777777, (2, 4): 2.7777777777777777, (2, 5): 2.7777777777777777, (2, 6): 2.7777777777777777, (3, 1): 2.7777777777777777, (3, 2): 2.7777777777777777, (3, 3): 2.7777777777777777, (3, 4): 2.7777777777777777, (3, 5): 2.7777777777777777, (3, 6): 2.7777777777777777, (4, 1): 2.7777777777777777, (4, 2): 2.7777777777777777, (4, 3): 2.7777777777777777, (4, 4): 2.7777777777777777, (4, 5): 2.7777777777777777, (4, 6): 2.7777777777777777, (5, 1): 2.7777777777777777, (5, 2): 2.7777777777777777, (5, 3): 2.7777777777777777, (5, 4): 2.7777777777777777, (5, 5): 2.7777777777777777, (5, 6): 2.7777777777777777, (6, 1): 2.7777777777777777, (6, 2): 2.7777777777777777, (6, 3): 2.7777777777777777, (6, 4): 2.7777777777777777, (6, 5): 2.7777777777777777, (6, 6): 2.7777777777777777}\n"
     ]
    }
   ],
   "source": [
    "dice = [1,2,3,4,5,6]\n",
    "combinations = [(d,d2) for d in dice for d2 in dice]\n",
    "dict_combinations = {number:float(1/36 * 100) for number in combinations}\n",
    "print(dict_combinations)\n"
   ]
  }
 ],
 "metadata": {
  "kernelspec": {
   "display_name": "Python 3",
   "language": "python",
   "name": "python3"
  },
  "language_info": {
   "codemirror_mode": {
    "name": "ipython",
    "version": 3
   },
   "file_extension": ".py",
   "mimetype": "text/x-python",
   "name": "python",
   "nbconvert_exporter": "python",
   "pygments_lexer": "ipython3",
   "version": "3.7.6"
  }
 },
 "nbformat": 4,
 "nbformat_minor": 4
}
