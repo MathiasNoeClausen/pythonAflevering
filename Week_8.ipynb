{
 "cells": [
  {
   "cell_type": "markdown",
   "metadata": {},
   "source": [
    "## Assignment\n",
    "\n",
    "### Exercise 1\n",
    "\n",
    "Tilgå https://www.dba.dk/ og find alle links på siden ved hjælp af BeautifulSoup og gem dem i en liste.\n",
    "\n",
    "### Exercise 2\n",
    "\n",
    "1. Brug pandas til at oprette et dataframe, som du lægger linksne i.\n",
    "2. Opret et sql table og læg dataframet deri.\n",
    "\n",
    "### Exercise 3\n",
    "\n",
    "1. Brug flask til at hive dataen fra databasen ud på en side (hint: GET request).\n",
    "2. Lav en post metode, til at indsætte ny data i tabellen."
   ]
  },
  {
   "cell_type": "markdown",
   "metadata": {},
   "source": [
    "## Status"
   ]
  },
  {
   "cell_type": "markdown",
   "metadata": {},
   "source": [
    "## Solution\n"
   ]
  },
  {
   "cell_type": "code",
   "execution_count": 1,
   "metadata": {},
   "outputs": [
    {
     "name": "stdout",
     "output_type": "stream",
     "text": [
      "['https://www.dba.dk/']\n",
      "['https://www.dba.dk/', 'https://guide.dba.dk']\n",
      "['https://www.dba.dk/', 'https://guide.dba.dk', 'https://support.dba.dk/']\n",
      "['https://www.dba.dk/', 'https://guide.dba.dk', 'https://support.dba.dk/', 'https://www.dba.dk/opret-annonce/']\n",
      "['https://www.dba.dk/', 'https://guide.dba.dk', 'https://support.dba.dk/', 'https://www.dba.dk/opret-annonce/', 'https://support.dba.dk/']\n",
      "['https://www.dba.dk/', 'https://guide.dba.dk', 'https://support.dba.dk/', 'https://www.dba.dk/opret-annonce/', 'https://support.dba.dk/', 'https://info.dba.dk/kontakt/']\n",
      "['https://www.dba.dk/', 'https://guide.dba.dk', 'https://support.dba.dk/', 'https://www.dba.dk/opret-annonce/', 'https://support.dba.dk/', 'https://info.dba.dk/kontakt/', 'https://jobs.ebayclassifiedsgroup.com/dba']\n",
      "['https://www.dba.dk/', 'https://guide.dba.dk', 'https://support.dba.dk/', 'https://www.dba.dk/opret-annonce/', 'https://support.dba.dk/', 'https://info.dba.dk/kontakt/', 'https://jobs.ebayclassifiedsgroup.com/dba', 'https://dba.presscloud.com/nr/#/']\n",
      "['https://www.dba.dk/', 'https://guide.dba.dk', 'https://support.dba.dk/', 'https://www.dba.dk/opret-annonce/', 'https://support.dba.dk/', 'https://info.dba.dk/kontakt/', 'https://jobs.ebayclassifiedsgroup.com/dba', 'https://dba.presscloud.com/nr/#/', 'https://guide.dba.dk']\n",
      "['https://www.dba.dk/', 'https://guide.dba.dk', 'https://support.dba.dk/', 'https://www.dba.dk/opret-annonce/', 'https://support.dba.dk/', 'https://info.dba.dk/kontakt/', 'https://jobs.ebayclassifiedsgroup.com/dba', 'https://dba.presscloud.com/nr/#/', 'https://guide.dba.dk', 'https://sikkerhed.dba.dk/']\n",
      "['https://www.dba.dk/', 'https://guide.dba.dk', 'https://support.dba.dk/', 'https://www.dba.dk/opret-annonce/', 'https://support.dba.dk/', 'https://info.dba.dk/kontakt/', 'https://jobs.ebayclassifiedsgroup.com/dba', 'https://dba.presscloud.com/nr/#/', 'https://guide.dba.dk', 'https://sikkerhed.dba.dk/', 'https://info.dba.dk/vilkaar/brugervilkaar']\n",
      "['https://www.dba.dk/', 'https://guide.dba.dk', 'https://support.dba.dk/', 'https://www.dba.dk/opret-annonce/', 'https://support.dba.dk/', 'https://info.dba.dk/kontakt/', 'https://jobs.ebayclassifiedsgroup.com/dba', 'https://dba.presscloud.com/nr/#/', 'https://guide.dba.dk', 'https://sikkerhed.dba.dk/', 'https://info.dba.dk/vilkaar/brugervilkaar', 'https://info.dba.dk/vilkaar/annonceringsregler']\n",
      "['https://www.dba.dk/', 'https://guide.dba.dk', 'https://support.dba.dk/', 'https://www.dba.dk/opret-annonce/', 'https://support.dba.dk/', 'https://info.dba.dk/kontakt/', 'https://jobs.ebayclassifiedsgroup.com/dba', 'https://dba.presscloud.com/nr/#/', 'https://guide.dba.dk', 'https://sikkerhed.dba.dk/', 'https://info.dba.dk/vilkaar/brugervilkaar', 'https://info.dba.dk/vilkaar/annonceringsregler', 'https://info.dba.dk/vilkaar/persondatapolitik']\n"
     ]
    },
    {
     "ename": "AttributeError",
     "evalue": "'NoneType' object has no attribute 'startswith'",
     "output_type": "error",
     "traceback": [
      "\u001b[0;31m---------------------------------------------------------------------------\u001b[0m",
      "\u001b[0;31mAttributeError\u001b[0m                            Traceback (most recent call last)",
      "\u001b[0;32m<ipython-input-1-e143f6f8f13b>\u001b[0m in \u001b[0;36m<module>\u001b[0;34m\u001b[0m\n\u001b[1;32m      7\u001b[0m \u001b[0mlinkList\u001b[0m \u001b[0;34m=\u001b[0m \u001b[0;34m[\u001b[0m\u001b[0;34m]\u001b[0m\u001b[0;34m\u001b[0m\u001b[0;34m\u001b[0m\u001b[0m\n\u001b[1;32m      8\u001b[0m \u001b[0;32mfor\u001b[0m \u001b[0mlink\u001b[0m \u001b[0;32min\u001b[0m \u001b[0msoup\u001b[0m\u001b[0;34m.\u001b[0m\u001b[0mfind_all\u001b[0m\u001b[0;34m(\u001b[0m\u001b[0;34m'a'\u001b[0m\u001b[0;34m)\u001b[0m\u001b[0;34m:\u001b[0m\u001b[0;34m\u001b[0m\u001b[0;34m\u001b[0m\u001b[0m\n\u001b[0;32m----> 9\u001b[0;31m     \u001b[0;32mif\u001b[0m \u001b[0;32mnot\u001b[0m \u001b[0mlink\u001b[0m\u001b[0;34m.\u001b[0m\u001b[0mget\u001b[0m\u001b[0;34m(\u001b[0m\u001b[0;34m'href'\u001b[0m\u001b[0;34m)\u001b[0m\u001b[0;34m.\u001b[0m\u001b[0mstartswith\u001b[0m\u001b[0;34m(\u001b[0m\u001b[0;34m'http'\u001b[0m\u001b[0;34m)\u001b[0m\u001b[0;34m:\u001b[0m\u001b[0;34m\u001b[0m\u001b[0;34m\u001b[0m\u001b[0m\n\u001b[0m\u001b[1;32m     10\u001b[0m         \u001b[0;32mcontinue\u001b[0m\u001b[0;34m\u001b[0m\u001b[0;34m\u001b[0m\u001b[0m\n\u001b[1;32m     11\u001b[0m     \u001b[0mlinkList\u001b[0m\u001b[0;34m.\u001b[0m\u001b[0mappend\u001b[0m\u001b[0;34m(\u001b[0m\u001b[0mlink\u001b[0m\u001b[0;34m.\u001b[0m\u001b[0mget\u001b[0m\u001b[0;34m(\u001b[0m\u001b[0;34m'href'\u001b[0m\u001b[0;34m)\u001b[0m\u001b[0;34m)\u001b[0m\u001b[0;34m\u001b[0m\u001b[0;34m\u001b[0m\u001b[0m\n",
      "\u001b[0;31mAttributeError\u001b[0m: 'NoneType' object has no attribute 'startswith'"
     ]
    }
   ],
   "source": [
    "## Exercise 1\n",
    "import requests\n",
    "from bs4 import BeautifulSoup\n",
    "url = 'https://www.dba.dk/'\n",
    "req = requests.get(url, headers={'User-Agent': 'Mozilla/5.0'})\n",
    "soup = BeautifulSoup(req.text, 'html.parser')\n",
    "linkList = []\n",
    "for link in soup.find_all('a'):\n",
    "    if not link.get('href').startswith('http'):\n",
    "        continue\n",
    "    linkList.append(link.get('href'))\n",
    "\n",
    "    print(linkList)\n",
    "\n"
   ]
  },
  {
   "cell_type": "code",
   "execution_count": null,
   "metadata": {},
   "outputs": [],
   "source": [
    "#Exercise 2\n",
    "import pandas as pd\n",
    "import mysql.connector as mysql\n",
    "from sqlalchemy import create_engine #sqlalchemy helped convert strings to dates seamlessly\n",
    "import mysql.connector as mysql\n",
    "\n",
    "con_str = \"mysql+mysqlconnector://root:root@db/db\"\n",
    "engine = create_engine(con_str)\n",
    "df = pd.DataFrame({'Links': linkList})\n",
    "df = df.applymap(str)\n",
    "df.to_sql('linksdemo',con=engine, if_exists='append', index = False)\n",
    "\n",
    "df"
   ]
  },
  {
   "cell_type": "code",
   "execution_count": 4,
   "metadata": {},
   "outputs": [],
   "source": [
    "#Se week8flask.py for løsning på exercise 3\n",
    "import week8flask as dlink\n",
    "\n",
    "dlink.create_link('https://www.hejhejhej.dk')"
   ]
  }
 ],
 "metadata": {
  "kernelspec": {
   "display_name": "Python 3",
   "language": "python",
   "name": "python3"
  },
  "language_info": {
   "codemirror_mode": {
    "name": "ipython",
    "version": 3
   },
   "file_extension": ".py",
   "mimetype": "text/x-python",
   "name": "python",
   "nbconvert_exporter": "python",
   "pygments_lexer": "ipython3",
   "version": "3.7.6"
  }
 },
 "nbformat": 4,
 "nbformat_minor": 4
}
