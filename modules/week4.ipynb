{
 "cells": [
  {
   "cell_type": "code",
   "execution_count": null,
   "metadata": {},
   "outputs": [],
   "source": [
    "import numpy as np\n",
    "#reshape(rækker,kolonner) // y,x som i et koordinatsystem bare omvendt // starter øverst i venstre hjørne, går nedad, så udad.\n",
    "#Hvis det er et 3 dimensionelt array er det z,y,x i stedet.\n",
    "#arange(startpunkt,slutpunkt)\n",
    "#Disse 2 metoder skal passe sammen, ellers får man fejl\n",
    "\n"
   ]
  }
 ],
 "metadata": {
  "kernelspec": {
   "display_name": "Python 3",
   "language": "python",
   "name": "python3"
  },
  "language_info": {
   "codemirror_mode": {
    "name": "ipython",
    "version": 3
   },
   "file_extension": ".py",
   "mimetype": "text/x-python",
   "name": "python",
   "nbconvert_exporter": "python",
   "pygments_lexer": "ipython3",
   "version": "3.7.6"
  }
 },
 "nbformat": 4,
 "nbformat_minor": 4
}
